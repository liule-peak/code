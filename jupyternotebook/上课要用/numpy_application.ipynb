{
 "cells": [
  {
   "cell_type": "code",
   "execution_count": 1,
   "metadata": {
    "collapsed": true
   },
   "outputs": [],
   "source": [
    "from PIL import Image\n",
    "import numpy as np"
   ]
  },
  {
   "cell_type": "code",
   "execution_count": 5,
   "metadata": {},
   "outputs": [],
   "source": [
    "data=Image.open(\"./numpy_demo.data/phone.jpg\")#加载图片"
   ]
  },
  {
   "cell_type": "code",
   "execution_count": 6,
   "metadata": {},
   "outputs": [
    {
     "name": "stdout",
     "output_type": "stream",
     "text": [
      "<PIL.JpegImagePlugin.JpegImageFile image mode=RGB size=400x400 at 0x722FAC8> <class 'PIL.JpegImagePlugin.JpegImageFile'>\n"
     ]
    }
   ],
   "source": [
    "print(data,type(data))"
   ]
  },
  {
   "cell_type": "code",
   "execution_count": 7,
   "metadata": {
    "collapsed": true
   },
   "outputs": [],
   "source": [
    "im=np.array(data)#将读入图片转换为ndarray"
   ]
  },
  {
   "cell_type": "code",
   "execution_count": 8,
   "metadata": {},
   "outputs": [
    {
     "name": "stdout",
     "output_type": "stream",
     "text": [
      "[[[ 8  8  8]\n",
      "  [ 8  8  8]\n",
      "  [ 8  8  8]\n",
      "  ...\n",
      "  [ 6  6  6]\n",
      "  [ 6  6  6]\n",
      "  [ 6  6  6]]\n",
      "\n",
      " [[ 9  9  9]\n",
      "  [ 9  9  9]\n",
      "  [ 9  9  9]\n",
      "  ...\n",
      "  [ 6  6  6]\n",
      "  [ 6  6  6]\n",
      "  [ 6  6  6]]\n",
      "\n",
      " [[11 11 11]\n",
      "  [11 11 11]\n",
      "  [11 11 11]\n",
      "  ...\n",
      "  [ 6  6  6]\n",
      "  [ 6  6  6]\n",
      "  [ 6  6  6]]\n",
      "\n",
      " ...\n",
      "\n",
      " [[ 5  5  5]\n",
      "  [13 13 13]\n",
      "  [25 25 25]\n",
      "  ...\n",
      "  [ 6  6  6]\n",
      "  [ 3  3  3]\n",
      "  [ 2  2  2]]\n",
      "\n",
      " [[25 25 25]\n",
      "  [26 26 26]\n",
      "  [22 22 22]\n",
      "  ...\n",
      "  [ 0  0  0]\n",
      "  [ 0  0  0]\n",
      "  [ 1  1  1]]\n",
      "\n",
      " [[21 21 21]\n",
      "  [10 10 10]\n",
      "  [ 0  0  0]\n",
      "  ...\n",
      "  [ 3  3  3]\n",
      "  [ 4  4  4]\n",
      "  [ 4  4  4]]]\n"
     ]
    }
   ],
   "source": [
    "print(im)"
   ]
  },
  {
   "cell_type": "code",
   "execution_count": 15,
   "metadata": {},
   "outputs": [
    {
     "name": "stdout",
     "output_type": "stream",
     "text": [
      "(400, 400, 3) uint8\n"
     ]
    }
   ],
   "source": [
    "print(im.shape,im.dtype)#显示大小和元素类型"
   ]
  },
  {
   "cell_type": "code",
   "execution_count": 17,
   "metadata": {},
   "outputs": [],
   "source": [
    "b=[255,255,255]-im #运算求补色"
   ]
  },
  {
   "cell_type": "code",
   "execution_count": 20,
   "metadata": {
    "collapsed": true
   },
   "outputs": [],
   "source": [
    "new_im=Image.fromarray(b.astype(np.uint8))#将ndarray又转化为图片格式"
   ]
  },
  {
   "cell_type": "code",
   "execution_count": 21,
   "metadata": {},
   "outputs": [],
   "source": [
    "new_im.save(\"./numpy_demo.data/phone2.jpg\")#另存为补色图片"
   ]
  },
  {
   "cell_type": "code",
   "execution_count": 23,
   "metadata": {},
   "outputs": [],
   "source": [
    "new_im.show()#展示"
   ]
  },
  {
   "cell_type": "code",
   "execution_count": null,
   "metadata": {
    "collapsed": true
   },
   "outputs": [],
   "source": []
  }
 ],
 "metadata": {
  "kernelspec": {
   "display_name": "Python 3",
   "language": "python",
   "name": "python3"
  },
  "language_info": {
   "codemirror_mode": {
    "name": "ipython",
    "version": 3
   },
   "file_extension": ".py",
   "mimetype": "text/x-python",
   "name": "python",
   "nbconvert_exporter": "python",
   "pygments_lexer": "ipython3",
   "version": "3.6.2"
  },
  "varInspector": {
   "cols": {
    "lenName": 16,
    "lenType": 16,
    "lenVar": 40
   },
   "kernels_config": {
    "python": {
     "delete_cmd_postfix": "",
     "delete_cmd_prefix": "del ",
     "library": "var_list.py",
     "varRefreshCmd": "print(var_dic_list())"
    },
    "r": {
     "delete_cmd_postfix": ") ",
     "delete_cmd_prefix": "rm(",
     "library": "var_list.r",
     "varRefreshCmd": "cat(var_dic_list()) "
    }
   },
   "types_to_exclude": [
    "module",
    "function",
    "builtin_function_or_method",
    "instance",
    "_Feature"
   ],
   "window_display": false
  }
 },
 "nbformat": 4,
 "nbformat_minor": 2
}
