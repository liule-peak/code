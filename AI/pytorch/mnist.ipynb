{
 "metadata": {
  "language_info": {
   "codemirror_mode": {
    "name": "ipython",
    "version": 3
   },
   "file_extension": ".py",
   "mimetype": "text/x-python",
   "name": "python",
   "nbconvert_exporter": "python",
   "pygments_lexer": "ipython3",
   "version": "3.6.12-final"
  },
  "orig_nbformat": 2,
  "kernelspec": {
   "name": "python3",
   "display_name": "Python 3.6.12 64-bit ('pt': conda)",
   "metadata": {
    "interpreter": {
     "hash": "9eae2b1349b9f43904658cfac927474656aa6d74119fc0d9e86f8c9c6f8d463d"
    }
   }
  }
 },
 "nbformat": 4,
 "nbformat_minor": 2,
 "cells": [
  {
   "cell_type": "code",
   "execution_count": 53,
   "metadata": {},
   "outputs": [],
   "source": [
    "import torch\n",
    "import torch.nn as nn\n",
    "from torch.autograd import Variable\n",
    "import torch.optim as optim\n",
    "import torch.nn.functional as F"
   ]
  },
  {
   "cell_type": "code",
   "execution_count": 54,
   "metadata": {},
   "outputs": [],
   "source": [
    "import torchvision.datasets as dsets\n",
    "import torchvision.transforms as transforms"
   ]
  },
  {
   "cell_type": "code",
   "execution_count": 55,
   "metadata": {},
   "outputs": [],
   "source": [
    "import matplotlib.pyplot as plt\n",
    "import numpy as np"
   ]
  },
  {
   "cell_type": "code",
   "execution_count": 56,
   "metadata": {},
   "outputs": [],
   "source": [
    "%matplotlib inline"
   ]
  },
  {
   "cell_type": "code",
   "execution_count": 57,
   "metadata": {},
   "outputs": [],
   "source": [
    "device = torch.device('cuda:0' if torch.cuda.is_available() else 'cpu')"
   ]
  },
  {
   "cell_type": "code",
   "execution_count": 58,
   "metadata": {},
   "outputs": [],
   "source": [
    "image_size = 28 # the size of image is 28*28\n",
    "num_classes = 10 # the number of all classes\n",
    "num_epochs = 20 # the number of all epoches\n",
    "batch_size = 64 # a mini batch,64 images\n",
    "learning_rate=0.001"
   ]
  },
  {
   "cell_type": "code",
   "execution_count": 59,
   "metadata": {},
   "outputs": [],
   "source": [
    "train_dataset = dsets.MNIST(root = './data',\n",
    "                            train=True,\n",
    "                            transform=transforms.ToTensor(),\n",
    "                            download=True)"
   ]
  },
  {
   "cell_type": "code",
   "execution_count": 60,
   "metadata": {},
   "outputs": [],
   "source": [
    "test_dataset = dsets.MNIST(root='./data',\n",
    "                            train=False,\n",
    "                            transform=transforms.ToTensor())"
   ]
  },
  {
   "cell_type": "code",
   "execution_count": 61,
   "metadata": {},
   "outputs": [],
   "source": [
    "train_loader = torch.utils.data.DataLoader(dataset=train_dataset,\n",
    "                                            batch_size=batch_size,\n",
    "                                            shuffle=True)"
   ]
  },
  {
   "cell_type": "code",
   "execution_count": 62,
   "metadata": {},
   "outputs": [],
   "source": [
    "indices = range(len(test_dataset))\n",
    "indices_val = indices[:5000]\n",
    "indices_test = indices[5000:]"
   ]
  },
  {
   "cell_type": "code",
   "execution_count": 63,
   "metadata": {},
   "outputs": [],
   "source": [
    "sampler_val = torch.utils.data.sampler.SubsetRandomSampler(indices_val)\n",
    "sampler_test = torch.utils.data.sampler.SubsetRandomSampler(indices_test)"
   ]
  },
  {
   "cell_type": "code",
   "execution_count": 64,
   "metadata": {},
   "outputs": [],
   "source": [
    "validation_loader = torch.utils.data.DataLoader(dataset = test_dataset,\n",
    "                                                batch_size = batch_size,\n",
    "                                                shuffle = False,\n",
    "                                                sampler = sampler_val)\n",
    "test_loader = torch.utils.data.DataLoader(dataset = test_dataset,\n",
    "                                          batch_size = batch_size,\n",
    "                                          shuffle= False,\n",
    "                                          sampler=sampler_test)                                                "
   ]
  },
  {
   "cell_type": "code",
   "execution_count": 65,
   "metadata": {},
   "outputs": [],
   "source": [
    "class ConvNet(nn.Module):\n",
    "    def __init__(self,num_classes=10):\n",
    "        super(ConvNet, self).__init__()\n",
    "        self.layer1 = nn.Sequential(\n",
    "            nn.Conv2d(1,16,kernel_size=5,stride=1,padding=2),\n",
    "            nn.BatchNorm2d(16),\n",
    "            nn.ReLU(),\n",
    "            nn.MaxPool2d(kernel_size=2,stride=2)\n",
    "        )\n",
    "        self.layer2 = nn.Sequential(\n",
    "            nn.Conv2d(16,32,kernel_size=5,stride=1,padding=2),\n",
    "            nn.BatchNorm2d(32),\n",
    "            nn.ReLU(),\n",
    "            nn.MaxPool2d(kernel_size=2,stride=2)\n",
    "        )\n",
    "        self.fc = nn.Linear(7*7*32,num_classes)\n",
    "    \n",
    "    def forward(self,x):\n",
    "        out = self.layer1(x)\n",
    "        out = self.layer2(out)\n",
    "        out = out.reshape(out.size(0),-1)\n",
    "        out = self.fc(out)\n",
    "        return out"
   ]
  },
  {
   "cell_type": "code",
   "execution_count": 66,
   "metadata": {},
   "outputs": [],
   "source": [
    "model = ConvNet(num_classes).to(device)"
   ]
  },
  {
   "cell_type": "code",
   "execution_count": 67,
   "metadata": {},
   "outputs": [],
   "source": [
    "criterion = nn.CrossEntropyLoss()\n",
    "optimizer = torch.optim.Adam(model.parameters(),lr=learning_rate)"
   ]
  },
  {
   "cell_type": "code",
   "execution_count": 68,
   "metadata": {},
   "outputs": [
    {
     "output_type": "stream",
     "name": "stdout",
     "text": [
      "Epoch [1/20], Step [100/938], Loss:0.2148\n",
      "Epoch [1/20], Step [200/938], Loss:0.1020\n",
      "Epoch [1/20], Step [300/938], Loss:0.1358\n",
      "Epoch [1/20], Step [400/938], Loss:0.0711\n",
      "Epoch [1/20], Step [500/938], Loss:0.1722\n",
      "Epoch [1/20], Step [600/938], Loss:0.1042\n",
      "Epoch [1/20], Step [700/938], Loss:0.1160\n",
      "Epoch [1/20], Step [800/938], Loss:0.0417\n",
      "Epoch [1/20], Step [900/938], Loss:0.0238\n",
      "Epoch [2/20], Step [100/938], Loss:0.0121\n",
      "Epoch [2/20], Step [200/938], Loss:0.0348\n",
      "Epoch [2/20], Step [300/938], Loss:0.0325\n",
      "Epoch [2/20], Step [400/938], Loss:0.0965\n",
      "Epoch [2/20], Step [500/938], Loss:0.0580\n",
      "Epoch [2/20], Step [600/938], Loss:0.0204\n",
      "Epoch [2/20], Step [700/938], Loss:0.0162\n",
      "Epoch [2/20], Step [800/938], Loss:0.0928\n",
      "Epoch [2/20], Step [900/938], Loss:0.0175\n",
      "Epoch [3/20], Step [100/938], Loss:0.0054\n",
      "Epoch [3/20], Step [200/938], Loss:0.0477\n",
      "Epoch [3/20], Step [300/938], Loss:0.0178\n",
      "Epoch [3/20], Step [400/938], Loss:0.0244\n",
      "Epoch [3/20], Step [500/938], Loss:0.0016\n",
      "Epoch [3/20], Step [600/938], Loss:0.0498\n",
      "Epoch [3/20], Step [700/938], Loss:0.0076\n",
      "Epoch [3/20], Step [800/938], Loss:0.0202\n",
      "Epoch [3/20], Step [900/938], Loss:0.0809\n",
      "Epoch [4/20], Step [100/938], Loss:0.0295\n",
      "Epoch [4/20], Step [200/938], Loss:0.0012\n",
      "Epoch [4/20], Step [300/938], Loss:0.0343\n",
      "Epoch [4/20], Step [400/938], Loss:0.0387\n",
      "Epoch [4/20], Step [500/938], Loss:0.0123\n",
      "Epoch [4/20], Step [600/938], Loss:0.0183\n",
      "Epoch [4/20], Step [700/938], Loss:0.0030\n",
      "Epoch [4/20], Step [800/938], Loss:0.0718\n",
      "Epoch [4/20], Step [900/938], Loss:0.0239\n",
      "Epoch [5/20], Step [100/938], Loss:0.0123\n",
      "Epoch [5/20], Step [200/938], Loss:0.0036\n",
      "Epoch [5/20], Step [300/938], Loss:0.0053\n",
      "Epoch [5/20], Step [400/938], Loss:0.0041\n",
      "Epoch [5/20], Step [500/938], Loss:0.0749\n",
      "Epoch [5/20], Step [600/938], Loss:0.0017\n",
      "Epoch [5/20], Step [700/938], Loss:0.0043\n",
      "Epoch [5/20], Step [800/938], Loss:0.0928\n",
      "Epoch [5/20], Step [900/938], Loss:0.0754\n",
      "Epoch [6/20], Step [100/938], Loss:0.0019\n",
      "Epoch [6/20], Step [200/938], Loss:0.0025\n",
      "Epoch [6/20], Step [300/938], Loss:0.0131\n",
      "Epoch [6/20], Step [400/938], Loss:0.0049\n",
      "Epoch [6/20], Step [500/938], Loss:0.0007\n",
      "Epoch [6/20], Step [600/938], Loss:0.0045\n",
      "Epoch [6/20], Step [700/938], Loss:0.0327\n",
      "Epoch [6/20], Step [800/938], Loss:0.0164\n",
      "Epoch [6/20], Step [900/938], Loss:0.0080\n",
      "Epoch [7/20], Step [100/938], Loss:0.0164\n",
      "Epoch [7/20], Step [200/938], Loss:0.0644\n",
      "Epoch [7/20], Step [300/938], Loss:0.0060\n",
      "Epoch [7/20], Step [400/938], Loss:0.0289\n",
      "Epoch [7/20], Step [500/938], Loss:0.0052\n",
      "Epoch [7/20], Step [600/938], Loss:0.0136\n",
      "Epoch [7/20], Step [700/938], Loss:0.0361\n",
      "Epoch [7/20], Step [800/938], Loss:0.0934\n",
      "Epoch [7/20], Step [900/938], Loss:0.0027\n",
      "Epoch [8/20], Step [100/938], Loss:0.0004\n",
      "Epoch [8/20], Step [200/938], Loss:0.0413\n",
      "Epoch [8/20], Step [300/938], Loss:0.0029\n",
      "Epoch [8/20], Step [400/938], Loss:0.0211\n",
      "Epoch [8/20], Step [500/938], Loss:0.0198\n",
      "Epoch [8/20], Step [600/938], Loss:0.0733\n",
      "Epoch [8/20], Step [700/938], Loss:0.0020\n",
      "Epoch [8/20], Step [800/938], Loss:0.0385\n",
      "Epoch [8/20], Step [900/938], Loss:0.0035\n",
      "Epoch [9/20], Step [100/938], Loss:0.0283\n",
      "Epoch [9/20], Step [200/938], Loss:0.0010\n",
      "Epoch [9/20], Step [300/938], Loss:0.0019\n",
      "Epoch [9/20], Step [400/938], Loss:0.0075\n",
      "Epoch [9/20], Step [500/938], Loss:0.0140\n",
      "Epoch [9/20], Step [600/938], Loss:0.0010\n",
      "Epoch [9/20], Step [700/938], Loss:0.0064\n",
      "Epoch [9/20], Step [800/938], Loss:0.0094\n",
      "Epoch [9/20], Step [900/938], Loss:0.0107\n",
      "Epoch [10/20], Step [100/938], Loss:0.0004\n",
      "Epoch [10/20], Step [200/938], Loss:0.0010\n",
      "Epoch [10/20], Step [300/938], Loss:0.0033\n",
      "Epoch [10/20], Step [400/938], Loss:0.0054\n",
      "Epoch [10/20], Step [500/938], Loss:0.0032\n",
      "Epoch [10/20], Step [600/938], Loss:0.0008\n",
      "Epoch [10/20], Step [700/938], Loss:0.0308\n",
      "Epoch [10/20], Step [800/938], Loss:0.0154\n",
      "Epoch [10/20], Step [900/938], Loss:0.0007\n",
      "Epoch [11/20], Step [100/938], Loss:0.0088\n",
      "Epoch [11/20], Step [200/938], Loss:0.0002\n",
      "Epoch [11/20], Step [300/938], Loss:0.0020\n",
      "Epoch [11/20], Step [400/938], Loss:0.0003\n",
      "Epoch [11/20], Step [500/938], Loss:0.0007\n",
      "Epoch [11/20], Step [600/938], Loss:0.0012\n",
      "Epoch [11/20], Step [700/938], Loss:0.0022\n",
      "Epoch [11/20], Step [800/938], Loss:0.0001\n",
      "Epoch [11/20], Step [900/938], Loss:0.0013\n",
      "Epoch [12/20], Step [100/938], Loss:0.0004\n",
      "Epoch [12/20], Step [200/938], Loss:0.0013\n",
      "Epoch [12/20], Step [300/938], Loss:0.0003\n",
      "Epoch [12/20], Step [400/938], Loss:0.0004\n",
      "Epoch [12/20], Step [500/938], Loss:0.0018\n",
      "Epoch [12/20], Step [600/938], Loss:0.0001\n",
      "Epoch [12/20], Step [700/938], Loss:0.0005\n",
      "Epoch [12/20], Step [800/938], Loss:0.0002\n",
      "Epoch [12/20], Step [900/938], Loss:0.0021\n",
      "Epoch [13/20], Step [100/938], Loss:0.0154\n",
      "Epoch [13/20], Step [200/938], Loss:0.0002\n",
      "Epoch [13/20], Step [300/938], Loss:0.0005\n",
      "Epoch [13/20], Step [400/938], Loss:0.0002\n",
      "Epoch [13/20], Step [500/938], Loss:0.0004\n",
      "Epoch [13/20], Step [600/938], Loss:0.0093\n",
      "Epoch [13/20], Step [700/938], Loss:0.0005\n",
      "Epoch [13/20], Step [800/938], Loss:0.0012\n",
      "Epoch [13/20], Step [900/938], Loss:0.0474\n",
      "Epoch [14/20], Step [100/938], Loss:0.0005\n",
      "Epoch [14/20], Step [200/938], Loss:0.0021\n",
      "Epoch [14/20], Step [300/938], Loss:0.0010\n",
      "Epoch [14/20], Step [400/938], Loss:0.0000\n",
      "Epoch [14/20], Step [500/938], Loss:0.0000\n",
      "Epoch [14/20], Step [600/938], Loss:0.0006\n",
      "Epoch [14/20], Step [700/938], Loss:0.0021\n",
      "Epoch [14/20], Step [800/938], Loss:0.0054\n",
      "Epoch [14/20], Step [900/938], Loss:0.0179\n",
      "Epoch [15/20], Step [100/938], Loss:0.0102\n",
      "Epoch [15/20], Step [200/938], Loss:0.0035\n",
      "Epoch [15/20], Step [300/938], Loss:0.0010\n",
      "Epoch [15/20], Step [400/938], Loss:0.0031\n",
      "Epoch [15/20], Step [500/938], Loss:0.0069\n",
      "Epoch [15/20], Step [600/938], Loss:0.0017\n",
      "Epoch [15/20], Step [700/938], Loss:0.0031\n",
      "Epoch [15/20], Step [800/938], Loss:0.0067\n",
      "Epoch [15/20], Step [900/938], Loss:0.0029\n",
      "Epoch [16/20], Step [100/938], Loss:0.0049\n",
      "Epoch [16/20], Step [200/938], Loss:0.0001\n",
      "Epoch [16/20], Step [300/938], Loss:0.0001\n",
      "Epoch [16/20], Step [400/938], Loss:0.0006\n",
      "Epoch [16/20], Step [500/938], Loss:0.0001\n",
      "Epoch [16/20], Step [600/938], Loss:0.0514\n",
      "Epoch [16/20], Step [700/938], Loss:0.0007\n",
      "Epoch [16/20], Step [800/938], Loss:0.0107\n",
      "Epoch [16/20], Step [900/938], Loss:0.0006\n",
      "Epoch [17/20], Step [100/938], Loss:0.0002\n",
      "Epoch [17/20], Step [200/938], Loss:0.0062\n",
      "Epoch [17/20], Step [300/938], Loss:0.0007\n",
      "Epoch [17/20], Step [400/938], Loss:0.0045\n",
      "Epoch [17/20], Step [500/938], Loss:0.0015\n",
      "Epoch [17/20], Step [600/938], Loss:0.0023\n",
      "Epoch [17/20], Step [700/938], Loss:0.0196\n",
      "Epoch [17/20], Step [800/938], Loss:0.0101\n",
      "Epoch [17/20], Step [900/938], Loss:0.0008\n",
      "Epoch [18/20], Step [100/938], Loss:0.0004\n",
      "Epoch [18/20], Step [200/938], Loss:0.0114\n",
      "Epoch [18/20], Step [300/938], Loss:0.0161\n",
      "Epoch [18/20], Step [400/938], Loss:0.0003\n",
      "Epoch [18/20], Step [500/938], Loss:0.0610\n",
      "Epoch [18/20], Step [600/938], Loss:0.0596\n",
      "Epoch [18/20], Step [700/938], Loss:0.0174\n",
      "Epoch [18/20], Step [800/938], Loss:0.0069\n",
      "Epoch [18/20], Step [900/938], Loss:0.0038\n",
      "Epoch [19/20], Step [100/938], Loss:0.0004\n",
      "Epoch [19/20], Step [200/938], Loss:0.0005\n",
      "Epoch [19/20], Step [300/938], Loss:0.0012\n",
      "Epoch [19/20], Step [400/938], Loss:0.0007\n",
      "Epoch [19/20], Step [500/938], Loss:0.0001\n",
      "Epoch [19/20], Step [600/938], Loss:0.0005\n",
      "Epoch [19/20], Step [700/938], Loss:0.0595\n",
      "Epoch [19/20], Step [800/938], Loss:0.0000\n",
      "Epoch [19/20], Step [900/938], Loss:0.0018\n",
      "Epoch [20/20], Step [100/938], Loss:0.0003\n",
      "Epoch [20/20], Step [200/938], Loss:0.0011\n",
      "Epoch [20/20], Step [300/938], Loss:0.0045\n",
      "Epoch [20/20], Step [400/938], Loss:0.0001\n",
      "Epoch [20/20], Step [500/938], Loss:0.0025\n",
      "Epoch [20/20], Step [600/938], Loss:0.0005\n",
      "Epoch [20/20], Step [700/938], Loss:0.0038\n",
      "Epoch [20/20], Step [800/938], Loss:0.0012\n",
      "Epoch [20/20], Step [900/938], Loss:0.0005\n"
     ]
    }
   ],
   "source": [
    "total_step = len(train_loader)\n",
    "for epoch in range(num_epochs):\n",
    "    for i,(images,labels) in enumerate(train_loader):\n",
    "        images = images.to(device)\n",
    "        labels = labels.to(device)\n",
    "\n",
    "        outputs =model(images)\n",
    "        loss = criterion(outputs,labels)\n",
    "\n",
    "        optimizer.zero_grad()\n",
    "        loss.backward()\n",
    "        optimizer.step()\n",
    "\n",
    "        if (i+1)%100 == 0:\n",
    "            print('Epoch [{}/{}], Step [{}/{}], Loss:{:.4f}'.format(epoch+1,num_epochs,i+1,total_step,loss.item()))"
   ]
  },
  {
   "cell_type": "code",
   "execution_count": 69,
   "metadata": {},
   "outputs": [
    {
     "output_type": "execute_result",
     "data": {
      "text/plain": [
       "ConvNet(\n",
       "  (layer1): Sequential(\n",
       "    (0): Conv2d(1, 16, kernel_size=(5, 5), stride=(1, 1), padding=(2, 2))\n",
       "    (1): BatchNorm2d(16, eps=1e-05, momentum=0.1, affine=True, track_running_stats=True)\n",
       "    (2): ReLU()\n",
       "    (3): MaxPool2d(kernel_size=2, stride=2, padding=0, dilation=1, ceil_mode=False)\n",
       "  )\n",
       "  (layer2): Sequential(\n",
       "    (0): Conv2d(16, 32, kernel_size=(5, 5), stride=(1, 1), padding=(2, 2))\n",
       "    (1): BatchNorm2d(32, eps=1e-05, momentum=0.1, affine=True, track_running_stats=True)\n",
       "    (2): ReLU()\n",
       "    (3): MaxPool2d(kernel_size=2, stride=2, padding=0, dilation=1, ceil_mode=False)\n",
       "  )\n",
       "  (fc): Linear(in_features=1568, out_features=10, bias=True)\n",
       ")"
      ]
     },
     "metadata": {},
     "execution_count": 69
    }
   ],
   "source": [
    "model.eval()"
   ]
  },
  {
   "cell_type": "code",
   "execution_count": 70,
   "metadata": {},
   "outputs": [
    {
     "output_type": "stream",
     "name": "stdout",
     "text": [
      "Test Accuracy of the model on the 10000 test images: 99.6 %\n"
     ]
    }
   ],
   "source": [
    "with torch.no_grad():\n",
    "    correct = 0\n",
    "    total = 0\n",
    "    for images,labels in test_loader:\n",
    "        images = images.to(device)\n",
    "        labels = labels.to(device)\n",
    "        outputs = model(images)\n",
    "        _, predicted = torch.max(outputs.data,1)\n",
    "        total += labels.size(0)\n",
    "        correct += (predicted == labels).sum().item()\n",
    "\n",
    "    print('Test Accuracy of the model on the 10000 test images: {} %'.format(100*correct/total))"
   ]
  },
  {
   "cell_type": "code",
   "execution_count": 71,
   "metadata": {},
   "outputs": [],
   "source": [
    "torch.save(model.state_dict(),'model.ckpt')"
   ]
  }
 ]
}