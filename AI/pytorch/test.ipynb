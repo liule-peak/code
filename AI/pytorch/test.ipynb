{
 "metadata": {
  "language_info": {
   "codemirror_mode": {
    "name": "ipython",
    "version": 3
   },
   "file_extension": ".py",
   "mimetype": "text/x-python",
   "name": "python",
   "nbconvert_exporter": "python",
   "pygments_lexer": "ipython3",
   "version": "3.6.12-final"
  },
  "orig_nbformat": 2,
  "kernelspec": {
   "name": "Python 3.6.12 64-bit ('pt': conda)",
   "display_name": "Python 3.6.12 64-bit ('pt': conda)",
   "metadata": {
    "interpreter": {
     "hash": "9eae2b1349b9f43904658cfac927474656aa6d74119fc0d9e86f8c9c6f8d463d"
    }
   }
  }
 },
 "nbformat": 4,
 "nbformat_minor": 2,
 "cells": [
  {
   "cell_type": "code",
   "execution_count": 18,
   "metadata": {},
   "outputs": [],
   "source": [
    "import torch\n",
    "from torch.autograd import Variable\n",
    "x=Variable(torch.ones(2,2),requires_grad=True)"
   ]
  },
  {
   "cell_type": "code",
   "execution_count": 19,
   "metadata": {},
   "outputs": [
    {
     "output_type": "execute_result",
     "data": {
      "text/plain": [
       "tensor([[1., 1.],\n",
       "        [1., 1.]], requires_grad=True)"
      ]
     },
     "metadata": {},
     "execution_count": 19
    }
   ],
   "source": [
    "x"
   ]
  },
  {
   "cell_type": "code",
   "execution_count": 20,
   "metadata": {},
   "outputs": [
    {
     "output_type": "execute_result",
     "data": {
      "text/plain": [
       "tensor([[3., 3.],\n",
       "        [3., 3.]], grad_fn=<AddBackward0>)"
      ]
     },
     "metadata": {},
     "execution_count": 20
    }
   ],
   "source": [
    "y=x+2\n",
    "y"
   ]
  },
  {
   "cell_type": "code",
   "execution_count": 21,
   "metadata": {},
   "outputs": [
    {
     "output_type": "execute_result",
     "data": {
      "text/plain": [
       "<AddBackward0 at 0x1fd4fcb78d0>"
      ]
     },
     "metadata": {},
     "execution_count": 21
    }
   ],
   "source": [
    "y.grad_fn"
   ]
  },
  {
   "cell_type": "code",
   "execution_count": 22,
   "metadata": {},
   "outputs": [],
   "source": [
    "z=y*y"
   ]
  },
  {
   "cell_type": "code",
   "execution_count": 23,
   "metadata": {},
   "outputs": [
    {
     "output_type": "execute_result",
     "data": {
      "text/plain": [
       "<MulBackward0 at 0x1fd4fcb7518>"
      ]
     },
     "metadata": {},
     "execution_count": 23
    }
   ],
   "source": [
    "z.grad_fn"
   ]
  },
  {
   "cell_type": "code",
   "execution_count": 24,
   "metadata": {},
   "outputs": [],
   "source": [
    "t=torch.mean(z)"
   ]
  },
  {
   "cell_type": "code",
   "execution_count": 25,
   "metadata": {},
   "outputs": [],
   "source": [
    "t.backward()"
   ]
  },
  {
   "cell_type": "code",
   "execution_count": 26,
   "metadata": {},
   "outputs": [
    {
     "output_type": "stream",
     "name": "stdout",
     "text": [
      "tensor([[1.5000, 1.5000],\n        [1.5000, 1.5000]])\n"
     ]
    }
   ],
   "source": [
    "print(x.grad)"
   ]
  },
  {
   "cell_type": "code",
   "execution_count": 27,
   "metadata": {},
   "outputs": [],
   "source": [
    "x=Variable(torch.linspace(0,100).type(torch.FloatTensor))"
   ]
  },
  {
   "cell_type": "code",
   "execution_count": 28,
   "metadata": {},
   "outputs": [],
   "source": [
    "rand=Variable(torch.randn(100))*10"
   ]
  },
  {
   "cell_type": "code",
   "execution_count": 29,
   "metadata": {},
   "outputs": [],
   "source": [
    "y=x+rand"
   ]
  },
  {
   "cell_type": "code",
   "execution_count": 30,
   "metadata": {},
   "outputs": [],
   "source": [
    "x_train=x[:-10]\n",
    "x_test=x[-10:]\n",
    "y_train=y[:-10]\n",
    "y_test=y[-10:]"
   ]
  },
  {
   "cell_type": "code",
   "execution_count": 31,
   "metadata": {},
   "outputs": [
    {
     "output_type": "display_data",
     "data": {
      "text/plain": "<Figure size 720x576 with 1 Axes>",
      "image/svg+xml": "<?xml version=\"1.0\" encoding=\"utf-8\" standalone=\"no\"?>\r\n<!DOCTYPE svg PUBLIC \"-//W3C//DTD SVG 1.1//EN\"\r\n  \"http://www.w3.org/Graphics/SVG/1.1/DTD/svg11.dtd\">\r\n<!-- Created with matplotlib (https://matplotlib.org/) -->\r\n<svg height=\"479.63625pt\" version=\"1.1\" viewBox=\"0 0 614.182812 479.63625\" width=\"614.182812pt\" xmlns=\"http://www.w3.org/2000/svg\" xmlns:xlink=\"http://www.w3.org/1999/xlink\">\r\n <metadata>\r\n  <rdf:RDF xmlns:cc=\"http://creativecommons.org/ns#\" xmlns:dc=\"http://purl.org/dc/elements/1.1/\" xmlns:rdf=\"http://www.w3.org/1999/02/22-rdf-syntax-ns#\">\r\n   <cc:Work>\r\n    <dc:type rdf:resource=\"http://purl.org/dc/dcmitype/StillImage\"/>\r\n    <dc:date>2020-11-04T21:29:47.070479</dc:date>\r\n    <dc:format>image/svg+xml</dc:format>\r\n    <dc:creator>\r\n     <cc:Agent>\r\n      <dc:title>Matplotlib v3.3.2, https://matplotlib.org/</dc:title>\r\n     </cc:Agent>\r\n    </dc:creator>\r\n   </cc:Work>\r\n  </rdf:RDF>\r\n </metadata>\r\n <defs>\r\n  <style type=\"text/css\">*{stroke-linecap:butt;stroke-linejoin:round;}</style>\r\n </defs>\r\n <g id=\"figure_1\">\r\n  <g id=\"patch_1\">\r\n   <path d=\"M 0 479.63625 \r\nL 614.182812 479.63625 \r\nL 614.182812 0 \r\nL 0 0 \r\nz\r\n\" style=\"fill:none;\"/>\r\n  </g>\r\n  <g id=\"axes_1\">\r\n   <g id=\"patch_2\">\r\n    <path d=\"M 48.982812 442.08 \r\nL 606.982813 442.08 \r\nL 606.982813 7.2 \r\nL 48.982812 7.2 \r\nz\r\n\" style=\"fill:#ffffff;\"/>\r\n   </g>\r\n   <g id=\"matplotlib.axis_1\">\r\n    <g id=\"xtick_1\">\r\n     <g id=\"line2d_1\">\r\n      <defs>\r\n       <path d=\"M 0 0 \r\nL 0 3.5 \r\n\" id=\"md3a82118c0\" style=\"stroke:#000000;stroke-width:0.8;\"/>\r\n      </defs>\r\n      <g>\r\n       <use style=\"stroke:#000000;stroke-width:0.8;\" x=\"74.346449\" xlink:href=\"#md3a82118c0\" y=\"442.08\"/>\r\n      </g>\r\n     </g>\r\n     <g id=\"text_1\">\r\n      <!-- 0 -->\r\n      <g transform=\"translate(71.165199 456.678437)scale(0.1 -0.1)\">\r\n       <defs>\r\n        <path d=\"M 31.78125 66.40625 \r\nQ 24.171875 66.40625 20.328125 58.90625 \r\nQ 16.5 51.421875 16.5 36.375 \r\nQ 16.5 21.390625 20.328125 13.890625 \r\nQ 24.171875 6.390625 31.78125 6.390625 \r\nQ 39.453125 6.390625 43.28125 13.890625 \r\nQ 47.125 21.390625 47.125 36.375 \r\nQ 47.125 51.421875 43.28125 58.90625 \r\nQ 39.453125 66.40625 31.78125 66.40625 \r\nz\r\nM 31.78125 74.21875 \r\nQ 44.046875 74.21875 50.515625 64.515625 \r\nQ 56.984375 54.828125 56.984375 36.375 \r\nQ 56.984375 17.96875 50.515625 8.265625 \r\nQ 44.046875 -1.421875 31.78125 -1.421875 \r\nQ 19.53125 -1.421875 13.0625 8.265625 \r\nQ 6.59375 17.96875 6.59375 36.375 \r\nQ 6.59375 54.828125 13.0625 64.515625 \r\nQ 19.53125 74.21875 31.78125 74.21875 \r\nz\r\n\" id=\"DejaVuSans-48\"/>\r\n       </defs>\r\n       <use xlink:href=\"#DejaVuSans-48\"/>\r\n      </g>\r\n     </g>\r\n    </g>\r\n    <g id=\"xtick_2\">\r\n     <g id=\"line2d_2\">\r\n      <g>\r\n       <use style=\"stroke:#000000;stroke-width:0.8;\" x=\"187.200385\" xlink:href=\"#md3a82118c0\" y=\"442.08\"/>\r\n      </g>\r\n     </g>\r\n     <g id=\"text_2\">\r\n      <!-- 20 -->\r\n      <g transform=\"translate(180.837885 456.678437)scale(0.1 -0.1)\">\r\n       <defs>\r\n        <path d=\"M 19.1875 8.296875 \r\nL 53.609375 8.296875 \r\nL 53.609375 0 \r\nL 7.328125 0 \r\nL 7.328125 8.296875 \r\nQ 12.9375 14.109375 22.625 23.890625 \r\nQ 32.328125 33.6875 34.8125 36.53125 \r\nQ 39.546875 41.84375 41.421875 45.53125 \r\nQ 43.3125 49.21875 43.3125 52.78125 \r\nQ 43.3125 58.59375 39.234375 62.25 \r\nQ 35.15625 65.921875 28.609375 65.921875 \r\nQ 23.96875 65.921875 18.8125 64.3125 \r\nQ 13.671875 62.703125 7.8125 59.421875 \r\nL 7.8125 69.390625 \r\nQ 13.765625 71.78125 18.9375 73 \r\nQ 24.125 74.21875 28.421875 74.21875 \r\nQ 39.75 74.21875 46.484375 68.546875 \r\nQ 53.21875 62.890625 53.21875 53.421875 \r\nQ 53.21875 48.921875 51.53125 44.890625 \r\nQ 49.859375 40.875 45.40625 35.40625 \r\nQ 44.1875 33.984375 37.640625 27.21875 \r\nQ 31.109375 20.453125 19.1875 8.296875 \r\nz\r\n\" id=\"DejaVuSans-50\"/>\r\n       </defs>\r\n       <use xlink:href=\"#DejaVuSans-50\"/>\r\n       <use x=\"63.623047\" xlink:href=\"#DejaVuSans-48\"/>\r\n      </g>\r\n     </g>\r\n    </g>\r\n    <g id=\"xtick_3\">\r\n     <g id=\"line2d_3\">\r\n      <g>\r\n       <use style=\"stroke:#000000;stroke-width:0.8;\" x=\"300.054322\" xlink:href=\"#md3a82118c0\" y=\"442.08\"/>\r\n      </g>\r\n     </g>\r\n     <g id=\"text_3\">\r\n      <!-- 40 -->\r\n      <g transform=\"translate(293.691822 456.678437)scale(0.1 -0.1)\">\r\n       <defs>\r\n        <path d=\"M 37.796875 64.3125 \r\nL 12.890625 25.390625 \r\nL 37.796875 25.390625 \r\nz\r\nM 35.203125 72.90625 \r\nL 47.609375 72.90625 \r\nL 47.609375 25.390625 \r\nL 58.015625 25.390625 \r\nL 58.015625 17.1875 \r\nL 47.609375 17.1875 \r\nL 47.609375 0 \r\nL 37.796875 0 \r\nL 37.796875 17.1875 \r\nL 4.890625 17.1875 \r\nL 4.890625 26.703125 \r\nz\r\n\" id=\"DejaVuSans-52\"/>\r\n       </defs>\r\n       <use xlink:href=\"#DejaVuSans-52\"/>\r\n       <use x=\"63.623047\" xlink:href=\"#DejaVuSans-48\"/>\r\n      </g>\r\n     </g>\r\n    </g>\r\n    <g id=\"xtick_4\">\r\n     <g id=\"line2d_4\">\r\n      <g>\r\n       <use style=\"stroke:#000000;stroke-width:0.8;\" x=\"412.908258\" xlink:href=\"#md3a82118c0\" y=\"442.08\"/>\r\n      </g>\r\n     </g>\r\n     <g id=\"text_4\">\r\n      <!-- 60 -->\r\n      <g transform=\"translate(406.545758 456.678437)scale(0.1 -0.1)\">\r\n       <defs>\r\n        <path d=\"M 33.015625 40.375 \r\nQ 26.375 40.375 22.484375 35.828125 \r\nQ 18.609375 31.296875 18.609375 23.390625 \r\nQ 18.609375 15.53125 22.484375 10.953125 \r\nQ 26.375 6.390625 33.015625 6.390625 \r\nQ 39.65625 6.390625 43.53125 10.953125 \r\nQ 47.40625 15.53125 47.40625 23.390625 \r\nQ 47.40625 31.296875 43.53125 35.828125 \r\nQ 39.65625 40.375 33.015625 40.375 \r\nz\r\nM 52.59375 71.296875 \r\nL 52.59375 62.3125 \r\nQ 48.875 64.0625 45.09375 64.984375 \r\nQ 41.3125 65.921875 37.59375 65.921875 \r\nQ 27.828125 65.921875 22.671875 59.328125 \r\nQ 17.53125 52.734375 16.796875 39.40625 \r\nQ 19.671875 43.65625 24.015625 45.921875 \r\nQ 28.375 48.1875 33.59375 48.1875 \r\nQ 44.578125 48.1875 50.953125 41.515625 \r\nQ 57.328125 34.859375 57.328125 23.390625 \r\nQ 57.328125 12.15625 50.6875 5.359375 \r\nQ 44.046875 -1.421875 33.015625 -1.421875 \r\nQ 20.359375 -1.421875 13.671875 8.265625 \r\nQ 6.984375 17.96875 6.984375 36.375 \r\nQ 6.984375 53.65625 15.1875 63.9375 \r\nQ 23.390625 74.21875 37.203125 74.21875 \r\nQ 40.921875 74.21875 44.703125 73.484375 \r\nQ 48.484375 72.75 52.59375 71.296875 \r\nz\r\n\" id=\"DejaVuSans-54\"/>\r\n       </defs>\r\n       <use xlink:href=\"#DejaVuSans-54\"/>\r\n       <use x=\"63.623047\" xlink:href=\"#DejaVuSans-48\"/>\r\n      </g>\r\n     </g>\r\n    </g>\r\n    <g id=\"xtick_5\">\r\n     <g id=\"line2d_5\">\r\n      <g>\r\n       <use style=\"stroke:#000000;stroke-width:0.8;\" x=\"525.762195\" xlink:href=\"#md3a82118c0\" y=\"442.08\"/>\r\n      </g>\r\n     </g>\r\n     <g id=\"text_5\">\r\n      <!-- 80 -->\r\n      <g transform=\"translate(519.399695 456.678437)scale(0.1 -0.1)\">\r\n       <defs>\r\n        <path d=\"M 31.78125 34.625 \r\nQ 24.75 34.625 20.71875 30.859375 \r\nQ 16.703125 27.09375 16.703125 20.515625 \r\nQ 16.703125 13.921875 20.71875 10.15625 \r\nQ 24.75 6.390625 31.78125 6.390625 \r\nQ 38.8125 6.390625 42.859375 10.171875 \r\nQ 46.921875 13.96875 46.921875 20.515625 \r\nQ 46.921875 27.09375 42.890625 30.859375 \r\nQ 38.875 34.625 31.78125 34.625 \r\nz\r\nM 21.921875 38.8125 \r\nQ 15.578125 40.375 12.03125 44.71875 \r\nQ 8.5 49.078125 8.5 55.328125 \r\nQ 8.5 64.0625 14.71875 69.140625 \r\nQ 20.953125 74.21875 31.78125 74.21875 \r\nQ 42.671875 74.21875 48.875 69.140625 \r\nQ 55.078125 64.0625 55.078125 55.328125 \r\nQ 55.078125 49.078125 51.53125 44.71875 \r\nQ 48 40.375 41.703125 38.8125 \r\nQ 48.828125 37.15625 52.796875 32.3125 \r\nQ 56.78125 27.484375 56.78125 20.515625 \r\nQ 56.78125 9.90625 50.3125 4.234375 \r\nQ 43.84375 -1.421875 31.78125 -1.421875 \r\nQ 19.734375 -1.421875 13.25 4.234375 \r\nQ 6.78125 9.90625 6.78125 20.515625 \r\nQ 6.78125 27.484375 10.78125 32.3125 \r\nQ 14.796875 37.15625 21.921875 38.8125 \r\nz\r\nM 18.3125 54.390625 \r\nQ 18.3125 48.734375 21.84375 45.5625 \r\nQ 25.390625 42.390625 31.78125 42.390625 \r\nQ 38.140625 42.390625 41.71875 45.5625 \r\nQ 45.3125 48.734375 45.3125 54.390625 \r\nQ 45.3125 60.0625 41.71875 63.234375 \r\nQ 38.140625 66.40625 31.78125 66.40625 \r\nQ 25.390625 66.40625 21.84375 63.234375 \r\nQ 18.3125 60.0625 18.3125 54.390625 \r\nz\r\n\" id=\"DejaVuSans-56\"/>\r\n       </defs>\r\n       <use xlink:href=\"#DejaVuSans-56\"/>\r\n       <use x=\"63.623047\" xlink:href=\"#DejaVuSans-48\"/>\r\n      </g>\r\n     </g>\r\n    </g>\r\n    <g id=\"text_6\">\r\n     <!-- X -->\r\n     <g transform=\"translate(324.557813 470.356562)scale(0.1 -0.1)\">\r\n      <defs>\r\n       <path d=\"M 6.296875 72.90625 \r\nL 16.890625 72.90625 \r\nL 35.015625 45.796875 \r\nL 53.21875 72.90625 \r\nL 63.8125 72.90625 \r\nL 40.375 37.890625 \r\nL 65.375 0 \r\nL 54.78125 0 \r\nL 34.28125 31 \r\nL 13.625 0 \r\nL 2.984375 0 \r\nL 29 38.921875 \r\nz\r\n\" id=\"DejaVuSans-88\"/>\r\n      </defs>\r\n      <use xlink:href=\"#DejaVuSans-88\"/>\r\n     </g>\r\n    </g>\r\n   </g>\r\n   <g id=\"matplotlib.axis_2\">\r\n    <g id=\"ytick_1\">\r\n     <g id=\"line2d_6\">\r\n      <defs>\r\n       <path d=\"M 0 0 \r\nL -3.5 0 \r\n\" id=\"m1f294c13eb\" style=\"stroke:#000000;stroke-width:0.8;\"/>\r\n      </defs>\r\n      <g>\r\n       <use style=\"stroke:#000000;stroke-width:0.8;\" x=\"48.982812\" xlink:href=\"#m1f294c13eb\" y=\"417.788011\"/>\r\n      </g>\r\n     </g>\r\n     <g id=\"text_7\">\r\n      <!-- −20 -->\r\n      <g transform=\"translate(20.878125 421.58723)scale(0.1 -0.1)\">\r\n       <defs>\r\n        <path d=\"M 10.59375 35.5 \r\nL 73.1875 35.5 \r\nL 73.1875 27.203125 \r\nL 10.59375 27.203125 \r\nz\r\n\" id=\"DejaVuSans-8722\"/>\r\n       </defs>\r\n       <use xlink:href=\"#DejaVuSans-8722\"/>\r\n       <use x=\"83.789062\" xlink:href=\"#DejaVuSans-50\"/>\r\n       <use x=\"147.412109\" xlink:href=\"#DejaVuSans-48\"/>\r\n      </g>\r\n     </g>\r\n    </g>\r\n    <g id=\"ytick_2\">\r\n     <g id=\"line2d_7\">\r\n      <g>\r\n       <use style=\"stroke:#000000;stroke-width:0.8;\" x=\"48.982812\" xlink:href=\"#m1f294c13eb\" y=\"354.844293\"/>\r\n      </g>\r\n     </g>\r\n     <g id=\"text_8\">\r\n      <!-- 0 -->\r\n      <g transform=\"translate(35.620312 358.643512)scale(0.1 -0.1)\">\r\n       <use xlink:href=\"#DejaVuSans-48\"/>\r\n      </g>\r\n     </g>\r\n    </g>\r\n    <g id=\"ytick_3\">\r\n     <g id=\"line2d_8\">\r\n      <g>\r\n       <use style=\"stroke:#000000;stroke-width:0.8;\" x=\"48.982812\" xlink:href=\"#m1f294c13eb\" y=\"291.900576\"/>\r\n      </g>\r\n     </g>\r\n     <g id=\"text_9\">\r\n      <!-- 20 -->\r\n      <g transform=\"translate(29.257812 295.699794)scale(0.1 -0.1)\">\r\n       <use xlink:href=\"#DejaVuSans-50\"/>\r\n       <use x=\"63.623047\" xlink:href=\"#DejaVuSans-48\"/>\r\n      </g>\r\n     </g>\r\n    </g>\r\n    <g id=\"ytick_4\">\r\n     <g id=\"line2d_9\">\r\n      <g>\r\n       <use style=\"stroke:#000000;stroke-width:0.8;\" x=\"48.982812\" xlink:href=\"#m1f294c13eb\" y=\"228.956858\"/>\r\n      </g>\r\n     </g>\r\n     <g id=\"text_10\">\r\n      <!-- 40 -->\r\n      <g transform=\"translate(29.257812 232.756076)scale(0.1 -0.1)\">\r\n       <use xlink:href=\"#DejaVuSans-52\"/>\r\n       <use x=\"63.623047\" xlink:href=\"#DejaVuSans-48\"/>\r\n      </g>\r\n     </g>\r\n    </g>\r\n    <g id=\"ytick_5\">\r\n     <g id=\"line2d_10\">\r\n      <g>\r\n       <use style=\"stroke:#000000;stroke-width:0.8;\" x=\"48.982812\" xlink:href=\"#m1f294c13eb\" y=\"166.01314\"/>\r\n      </g>\r\n     </g>\r\n     <g id=\"text_11\">\r\n      <!-- 60 -->\r\n      <g transform=\"translate(29.257812 169.812359)scale(0.1 -0.1)\">\r\n       <use xlink:href=\"#DejaVuSans-54\"/>\r\n       <use x=\"63.623047\" xlink:href=\"#DejaVuSans-48\"/>\r\n      </g>\r\n     </g>\r\n    </g>\r\n    <g id=\"ytick_6\">\r\n     <g id=\"line2d_11\">\r\n      <g>\r\n       <use style=\"stroke:#000000;stroke-width:0.8;\" x=\"48.982812\" xlink:href=\"#m1f294c13eb\" y=\"103.069422\"/>\r\n      </g>\r\n     </g>\r\n     <g id=\"text_12\">\r\n      <!-- 80 -->\r\n      <g transform=\"translate(29.257812 106.868641)scale(0.1 -0.1)\">\r\n       <use xlink:href=\"#DejaVuSans-56\"/>\r\n       <use x=\"63.623047\" xlink:href=\"#DejaVuSans-48\"/>\r\n      </g>\r\n     </g>\r\n    </g>\r\n    <g id=\"ytick_7\">\r\n     <g id=\"line2d_12\">\r\n      <g>\r\n       <use style=\"stroke:#000000;stroke-width:0.8;\" x=\"48.982812\" xlink:href=\"#m1f294c13eb\" y=\"40.125704\"/>\r\n      </g>\r\n     </g>\r\n     <g id=\"text_13\">\r\n      <!-- 100 -->\r\n      <g transform=\"translate(22.895312 43.924923)scale(0.1 -0.1)\">\r\n       <defs>\r\n        <path d=\"M 12.40625 8.296875 \r\nL 28.515625 8.296875 \r\nL 28.515625 63.921875 \r\nL 10.984375 60.40625 \r\nL 10.984375 69.390625 \r\nL 28.421875 72.90625 \r\nL 38.28125 72.90625 \r\nL 38.28125 8.296875 \r\nL 54.390625 8.296875 \r\nL 54.390625 0 \r\nL 12.40625 0 \r\nz\r\n\" id=\"DejaVuSans-49\"/>\r\n       </defs>\r\n       <use xlink:href=\"#DejaVuSans-49\"/>\r\n       <use x=\"63.623047\" xlink:href=\"#DejaVuSans-48\"/>\r\n       <use x=\"127.246094\" xlink:href=\"#DejaVuSans-48\"/>\r\n      </g>\r\n     </g>\r\n    </g>\r\n    <g id=\"text_14\">\r\n     <!-- Y -->\r\n     <g transform=\"translate(14.798437 227.693906)rotate(-90)scale(0.1 -0.1)\">\r\n      <defs>\r\n       <path d=\"M -0.203125 72.90625 \r\nL 10.40625 72.90625 \r\nL 30.609375 42.921875 \r\nL 50.6875 72.90625 \r\nL 61.28125 72.90625 \r\nL 35.5 34.71875 \r\nL 35.5 0 \r\nL 25.59375 0 \r\nL 25.59375 34.71875 \r\nz\r\n\" id=\"DejaVuSans-89\"/>\r\n      </defs>\r\n      <use xlink:href=\"#DejaVuSans-89\"/>\r\n     </g>\r\n    </g>\r\n   </g>\r\n   <g id=\"line2d_13\">\r\n    <defs>\r\n     <path d=\"M 0 3 \r\nC 0.795609 3 1.55874 2.683901 2.12132 2.12132 \r\nC 2.683901 1.55874 3 0.795609 3 0 \r\nC 3 -0.795609 2.683901 -1.55874 2.12132 -2.12132 \r\nC 1.55874 -2.683901 0.795609 -3 0 -3 \r\nC -0.795609 -3 -1.55874 -2.683901 -2.12132 -2.12132 \r\nC -2.683901 -1.55874 -3 -0.795609 -3 0 \r\nC -3 0.795609 -2.683901 1.55874 -2.12132 2.12132 \r\nC -1.55874 2.683901 -0.795609 3 0 3 \r\nz\r\n\" id=\"mb5ab615c14\" style=\"stroke:#1f77b4;\"/>\r\n    </defs>\r\n    <g clip-path=\"url(#p4af1919dcb)\">\r\n     <use style=\"fill:#1f77b4;stroke:#1f77b4;\" x=\"74.346449\" xlink:href=\"#mb5ab615c14\" y=\"379.504581\"/>\r\n     <use style=\"fill:#1f77b4;stroke:#1f77b4;\" x=\"80.046142\" xlink:href=\"#mb5ab615c14\" y=\"422.312727\"/>\r\n     <use style=\"fill:#1f77b4;stroke:#1f77b4;\" x=\"85.745836\" xlink:href=\"#mb5ab615c14\" y=\"331.23189\"/>\r\n     <use style=\"fill:#1f77b4;stroke:#1f77b4;\" x=\"91.44553\" xlink:href=\"#mb5ab615c14\" y=\"300.48065\"/>\r\n     <use style=\"fill:#1f77b4;stroke:#1f77b4;\" x=\"97.145223\" xlink:href=\"#mb5ab615c14\" y=\"378.237966\"/>\r\n     <use style=\"fill:#1f77b4;stroke:#1f77b4;\" x=\"102.844916\" xlink:href=\"#mb5ab615c14\" y=\"323.102525\"/>\r\n     <use style=\"fill:#1f77b4;stroke:#1f77b4;\" x=\"108.544611\" xlink:href=\"#mb5ab615c14\" y=\"347.691077\"/>\r\n     <use style=\"fill:#1f77b4;stroke:#1f77b4;\" x=\"114.244304\" xlink:href=\"#mb5ab615c14\" y=\"374.324585\"/>\r\n     <use style=\"fill:#1f77b4;stroke:#1f77b4;\" x=\"119.943997\" xlink:href=\"#mb5ab615c14\" y=\"304.715594\"/>\r\n     <use style=\"fill:#1f77b4;stroke:#1f77b4;\" x=\"125.643692\" xlink:href=\"#mb5ab615c14\" y=\"303.02859\"/>\r\n     <use style=\"fill:#1f77b4;stroke:#1f77b4;\" x=\"131.343382\" xlink:href=\"#mb5ab615c14\" y=\"300.101821\"/>\r\n     <use style=\"fill:#1f77b4;stroke:#1f77b4;\" x=\"137.043078\" xlink:href=\"#mb5ab615c14\" y=\"306.675856\"/>\r\n     <use style=\"fill:#1f77b4;stroke:#1f77b4;\" x=\"142.742773\" xlink:href=\"#mb5ab615c14\" y=\"342.169074\"/>\r\n     <use style=\"fill:#1f77b4;stroke:#1f77b4;\" x=\"148.442463\" xlink:href=\"#mb5ab615c14\" y=\"302.70031\"/>\r\n     <use style=\"fill:#1f77b4;stroke:#1f77b4;\" x=\"154.142159\" xlink:href=\"#mb5ab615c14\" y=\"236.653251\"/>\r\n     <use style=\"fill:#1f77b4;stroke:#1f77b4;\" x=\"159.841849\" xlink:href=\"#mb5ab615c14\" y=\"344.804739\"/>\r\n     <use style=\"fill:#1f77b4;stroke:#1f77b4;\" x=\"165.541545\" xlink:href=\"#mb5ab615c14\" y=\"299.129016\"/>\r\n     <use style=\"fill:#1f77b4;stroke:#1f77b4;\" x=\"171.24124\" xlink:href=\"#mb5ab615c14\" y=\"302.35407\"/>\r\n     <use style=\"fill:#1f77b4;stroke:#1f77b4;\" x=\"176.940936\" xlink:href=\"#mb5ab615c14\" y=\"300.949575\"/>\r\n     <use style=\"fill:#1f77b4;stroke:#1f77b4;\" x=\"182.64062\" xlink:href=\"#mb5ab615c14\" y=\"215.036229\"/>\r\n     <use style=\"fill:#1f77b4;stroke:#1f77b4;\" x=\"188.340316\" xlink:href=\"#mb5ab615c14\" y=\"281.047596\"/>\r\n     <use style=\"fill:#1f77b4;stroke:#1f77b4;\" x=\"194.040011\" xlink:href=\"#mb5ab615c14\" y=\"262.493733\"/>\r\n     <use style=\"fill:#1f77b4;stroke:#1f77b4;\" x=\"199.739707\" xlink:href=\"#mb5ab615c14\" y=\"289.443277\"/>\r\n     <use style=\"fill:#1f77b4;stroke:#1f77b4;\" x=\"205.439402\" xlink:href=\"#mb5ab615c14\" y=\"246.500008\"/>\r\n     <use style=\"fill:#1f77b4;stroke:#1f77b4;\" x=\"211.139098\" xlink:href=\"#mb5ab615c14\" y=\"287.743614\"/>\r\n     <use style=\"fill:#1f77b4;stroke:#1f77b4;\" x=\"216.838783\" xlink:href=\"#mb5ab615c14\" y=\"264.479375\"/>\r\n     <use style=\"fill:#1f77b4;stroke:#1f77b4;\" x=\"222.538478\" xlink:href=\"#mb5ab615c14\" y=\"275.323128\"/>\r\n     <use style=\"fill:#1f77b4;stroke:#1f77b4;\" x=\"228.238174\" xlink:href=\"#mb5ab615c14\" y=\"276.651322\"/>\r\n     <use style=\"fill:#1f77b4;stroke:#1f77b4;\" x=\"233.937869\" xlink:href=\"#mb5ab615c14\" y=\"293.797508\"/>\r\n     <use style=\"fill:#1f77b4;stroke:#1f77b4;\" x=\"239.637565\" xlink:href=\"#mb5ab615c14\" y=\"297.288924\"/>\r\n     <use style=\"fill:#1f77b4;stroke:#1f77b4;\" x=\"245.337249\" xlink:href=\"#mb5ab615c14\" y=\"268.453948\"/>\r\n     <use style=\"fill:#1f77b4;stroke:#1f77b4;\" x=\"251.036945\" xlink:href=\"#mb5ab615c14\" y=\"246.045466\"/>\r\n     <use style=\"fill:#1f77b4;stroke:#1f77b4;\" x=\"256.73664\" xlink:href=\"#mb5ab615c14\" y=\"235.383975\"/>\r\n     <use style=\"fill:#1f77b4;stroke:#1f77b4;\" x=\"262.436336\" xlink:href=\"#mb5ab615c14\" y=\"271.84202\"/>\r\n     <use style=\"fill:#1f77b4;stroke:#1f77b4;\" x=\"268.136031\" xlink:href=\"#mb5ab615c14\" y=\"283.202324\"/>\r\n     <use style=\"fill:#1f77b4;stroke:#1f77b4;\" x=\"273.835727\" xlink:href=\"#mb5ab615c14\" y=\"238.885109\"/>\r\n     <use style=\"fill:#1f77b4;stroke:#1f77b4;\" x=\"279.535422\" xlink:href=\"#mb5ab615c14\" y=\"275.671716\"/>\r\n     <use style=\"fill:#1f77b4;stroke:#1f77b4;\" x=\"285.235118\" xlink:href=\"#mb5ab615c14\" y=\"266.386477\"/>\r\n     <use style=\"fill:#1f77b4;stroke:#1f77b4;\" x=\"290.934792\" xlink:href=\"#mb5ab615c14\" y=\"213.55646\"/>\r\n     <use style=\"fill:#1f77b4;stroke:#1f77b4;\" x=\"296.634487\" xlink:href=\"#mb5ab615c14\" y=\"190.016579\"/>\r\n     <use style=\"fill:#1f77b4;stroke:#1f77b4;\" x=\"302.334183\" xlink:href=\"#mb5ab615c14\" y=\"215.168771\"/>\r\n     <use style=\"fill:#1f77b4;stroke:#1f77b4;\" x=\"308.033878\" xlink:href=\"#mb5ab615c14\" y=\"176.591\"/>\r\n     <use style=\"fill:#1f77b4;stroke:#1f77b4;\" x=\"313.733574\" xlink:href=\"#mb5ab615c14\" y=\"199.199321\"/>\r\n     <use style=\"fill:#1f77b4;stroke:#1f77b4;\" x=\"319.433269\" xlink:href=\"#mb5ab615c14\" y=\"207.020824\"/>\r\n     <use style=\"fill:#1f77b4;stroke:#1f77b4;\" x=\"325.132965\" xlink:href=\"#mb5ab615c14\" y=\"260.663317\"/>\r\n     <use style=\"fill:#1f77b4;stroke:#1f77b4;\" x=\"330.83266\" xlink:href=\"#mb5ab615c14\" y=\"217.080704\"/>\r\n     <use style=\"fill:#1f77b4;stroke:#1f77b4;\" x=\"336.532356\" xlink:href=\"#mb5ab615c14\" y=\"222.790429\"/>\r\n     <use style=\"fill:#1f77b4;stroke:#1f77b4;\" x=\"342.232051\" xlink:href=\"#mb5ab615c14\" y=\"178.330414\"/>\r\n     <use style=\"fill:#1f77b4;stroke:#1f77b4;\" x=\"347.931747\" xlink:href=\"#mb5ab615c14\" y=\"177.169224\"/>\r\n     <use style=\"fill:#1f77b4;stroke:#1f77b4;\" x=\"353.631421\" xlink:href=\"#mb5ab615c14\" y=\"183.349891\"/>\r\n     <use style=\"fill:#1f77b4;stroke:#1f77b4;\" x=\"359.331116\" xlink:href=\"#mb5ab615c14\" y=\"139.592789\"/>\r\n     <use style=\"fill:#1f77b4;stroke:#1f77b4;\" x=\"365.030812\" xlink:href=\"#mb5ab615c14\" y=\"237.721806\"/>\r\n     <use style=\"fill:#1f77b4;stroke:#1f77b4;\" x=\"370.730507\" xlink:href=\"#mb5ab615c14\" y=\"212.552243\"/>\r\n     <use style=\"fill:#1f77b4;stroke:#1f77b4;\" x=\"376.430203\" xlink:href=\"#mb5ab615c14\" y=\"162.182609\"/>\r\n     <use style=\"fill:#1f77b4;stroke:#1f77b4;\" x=\"382.129898\" xlink:href=\"#mb5ab615c14\" y=\"163.828632\"/>\r\n     <use style=\"fill:#1f77b4;stroke:#1f77b4;\" x=\"387.829594\" xlink:href=\"#mb5ab615c14\" y=\"220.416041\"/>\r\n     <use style=\"fill:#1f77b4;stroke:#1f77b4;\" x=\"393.529289\" xlink:href=\"#mb5ab615c14\" y=\"119.497688\"/>\r\n     <use style=\"fill:#1f77b4;stroke:#1f77b4;\" x=\"399.228985\" xlink:href=\"#mb5ab615c14\" y=\"195.790462\"/>\r\n     <use style=\"fill:#1f77b4;stroke:#1f77b4;\" x=\"404.92868\" xlink:href=\"#mb5ab615c14\" y=\"209.888328\"/>\r\n     <use style=\"fill:#1f77b4;stroke:#1f77b4;\" x=\"410.628354\" xlink:href=\"#mb5ab615c14\" y=\"128.95202\"/>\r\n     <use style=\"fill:#1f77b4;stroke:#1f77b4;\" x=\"416.32805\" xlink:href=\"#mb5ab615c14\" y=\"142.041587\"/>\r\n     <use style=\"fill:#1f77b4;stroke:#1f77b4;\" x=\"422.027745\" xlink:href=\"#mb5ab615c14\" y=\"176.303839\"/>\r\n     <use style=\"fill:#1f77b4;stroke:#1f77b4;\" x=\"427.727441\" xlink:href=\"#mb5ab615c14\" y=\"103.095066\"/>\r\n     <use style=\"fill:#1f77b4;stroke:#1f77b4;\" x=\"433.427136\" xlink:href=\"#mb5ab615c14\" y=\"171.076581\"/>\r\n     <use style=\"fill:#1f77b4;stroke:#1f77b4;\" x=\"439.126832\" xlink:href=\"#mb5ab615c14\" y=\"137.401006\"/>\r\n     <use style=\"fill:#1f77b4;stroke:#1f77b4;\" x=\"444.826527\" xlink:href=\"#mb5ab615c14\" y=\"148.003765\"/>\r\n     <use style=\"fill:#1f77b4;stroke:#1f77b4;\" x=\"450.526223\" xlink:href=\"#mb5ab615c14\" y=\"136.683625\"/>\r\n     <use style=\"fill:#1f77b4;stroke:#1f77b4;\" x=\"456.225918\" xlink:href=\"#mb5ab615c14\" y=\"157.194911\"/>\r\n     <use style=\"fill:#1f77b4;stroke:#1f77b4;\" x=\"461.925614\" xlink:href=\"#mb5ab615c14\" y=\"138.899396\"/>\r\n     <use style=\"fill:#1f77b4;stroke:#1f77b4;\" x=\"467.625309\" xlink:href=\"#mb5ab615c14\" y=\"148.43623\"/>\r\n     <use style=\"fill:#1f77b4;stroke:#1f77b4;\" x=\"473.325005\" xlink:href=\"#mb5ab615c14\" y=\"177.95177\"/>\r\n     <use style=\"fill:#1f77b4;stroke:#1f77b4;\" x=\"479.0247\" xlink:href=\"#mb5ab615c14\" y=\"124.119757\"/>\r\n     <use style=\"fill:#1f77b4;stroke:#1f77b4;\" x=\"484.724396\" xlink:href=\"#mb5ab615c14\" y=\"114.788771\"/>\r\n     <use style=\"fill:#1f77b4;stroke:#1f77b4;\" x=\"490.424091\" xlink:href=\"#mb5ab615c14\" y=\"185.519188\"/>\r\n     <use style=\"fill:#1f77b4;stroke:#1f77b4;\" x=\"496.123787\" xlink:href=\"#mb5ab615c14\" y=\"100.088441\"/>\r\n     <use style=\"fill:#1f77b4;stroke:#1f77b4;\" x=\"501.823439\" xlink:href=\"#mb5ab615c14\" y=\"115.337977\"/>\r\n     <use style=\"fill:#1f77b4;stroke:#1f77b4;\" x=\"507.523135\" xlink:href=\"#mb5ab615c14\" y=\"108.330379\"/>\r\n     <use style=\"fill:#1f77b4;stroke:#1f77b4;\" x=\"513.22283\" xlink:href=\"#mb5ab615c14\" y=\"115.457289\"/>\r\n     <use style=\"fill:#1f77b4;stroke:#1f77b4;\" x=\"518.922526\" xlink:href=\"#mb5ab615c14\" y=\"85.726332\"/>\r\n     <use style=\"fill:#1f77b4;stroke:#1f77b4;\" x=\"524.622221\" xlink:href=\"#mb5ab615c14\" y=\"148.291154\"/>\r\n     <use style=\"fill:#1f77b4;stroke:#1f77b4;\" x=\"530.321917\" xlink:href=\"#mb5ab615c14\" y=\"115.242053\"/>\r\n     <use style=\"fill:#1f77b4;stroke:#1f77b4;\" x=\"536.021612\" xlink:href=\"#mb5ab615c14\" y=\"47.169607\"/>\r\n     <use style=\"fill:#1f77b4;stroke:#1f77b4;\" x=\"541.721308\" xlink:href=\"#mb5ab615c14\" y=\"94.400134\"/>\r\n     <use style=\"fill:#1f77b4;stroke:#1f77b4;\" x=\"547.421003\" xlink:href=\"#mb5ab615c14\" y=\"77.78655\"/>\r\n     <use style=\"fill:#1f77b4;stroke:#1f77b4;\" x=\"553.120699\" xlink:href=\"#mb5ab615c14\" y=\"77.529919\"/>\r\n     <use style=\"fill:#1f77b4;stroke:#1f77b4;\" x=\"558.820394\" xlink:href=\"#mb5ab615c14\" y=\"26.967273\"/>\r\n     <use style=\"fill:#1f77b4;stroke:#1f77b4;\" x=\"564.52009\" xlink:href=\"#mb5ab615c14\" y=\"126.42336\"/>\r\n     <use style=\"fill:#1f77b4;stroke:#1f77b4;\" x=\"570.219785\" xlink:href=\"#mb5ab615c14\" y=\"137.886126\"/>\r\n     <use style=\"fill:#1f77b4;stroke:#1f77b4;\" x=\"575.919481\" xlink:href=\"#mb5ab615c14\" y=\"74.896667\"/>\r\n     <use style=\"fill:#1f77b4;stroke:#1f77b4;\" x=\"581.619176\" xlink:href=\"#mb5ab615c14\" y=\"66.474286\"/>\r\n    </g>\r\n   </g>\r\n   <g id=\"patch_3\">\r\n    <path d=\"M 48.982812 442.08 \r\nL 48.982812 7.2 \r\n\" style=\"fill:none;stroke:#000000;stroke-linecap:square;stroke-linejoin:miter;stroke-width:0.8;\"/>\r\n   </g>\r\n   <g id=\"patch_4\">\r\n    <path d=\"M 606.982813 442.08 \r\nL 606.982813 7.2 \r\n\" style=\"fill:none;stroke:#000000;stroke-linecap:square;stroke-linejoin:miter;stroke-width:0.8;\"/>\r\n   </g>\r\n   <g id=\"patch_5\">\r\n    <path d=\"M 48.982812 442.08 \r\nL 606.982813 442.08 \r\n\" style=\"fill:none;stroke:#000000;stroke-linecap:square;stroke-linejoin:miter;stroke-width:0.8;\"/>\r\n   </g>\r\n   <g id=\"patch_6\">\r\n    <path d=\"M 48.982812 7.2 \r\nL 606.982813 7.2 \r\n\" style=\"fill:none;stroke:#000000;stroke-linecap:square;stroke-linejoin:miter;stroke-width:0.8;\"/>\r\n   </g>\r\n  </g>\r\n </g>\r\n <defs>\r\n  <clipPath id=\"p4af1919dcb\">\r\n   <rect height=\"434.88\" width=\"558\" x=\"48.982812\" y=\"7.2\"/>\r\n  </clipPath>\r\n </defs>\r\n</svg>\r\n",
      "image/png": "[encoded data removed]"
     },
     "metadata": {
      "needs_background": "light"
     }
    }
   ],
   "source": [
    "import matplotlib.pyplot as plt\n",
    "plt.figure(figsize=(10,8))\n",
    "plt.plot(x_train.data.numpy(),y_train.data.numpy(),'o')\n",
    "plt.xlabel('X')\n",
    "plt.ylabel('Y')\n",
    "plt.show()"
   ]
  },
  {
   "cell_type": "code",
   "execution_count": 32,
   "metadata": {},
   "outputs": [],
   "source": [
    "a=Variable(torch.rand(1),requires_grad=True)\n",
    "b=Variable(torch.rand(1),requires_grad=True)"
   ]
  },
  {
   "cell_type": "code",
   "execution_count": 33,
   "metadata": {},
   "outputs": [],
   "source": [
    "learning_rate=0.0001"
   ]
  },
  {
   "cell_type": "code",
   "execution_count": 34,
   "metadata": {
    "tags": [
     "outputPrepend"
    ]
   },
   "outputs": [
    {
     "output_type": "stream",
     "name": "stdout",
     "text": [
      "grad_fn=<MeanBackward1>)\n",
      "loss: tensor(95.8525, grad_fn=<MeanBackward1>)\n",
      "loss: tensor(95.8525, grad_fn=<MeanBackward1>)\n",
      "loss: tensor(95.8525, grad_fn=<MeanBackward1>)\n",
      "loss: tensor(95.8525, grad_fn=<MeanBackward1>)\n",
      "loss: tensor(95.8525, grad_fn=<MeanBackward1>)\n",
      "loss: tensor(95.8525, grad_fn=<MeanBackward1>)\n",
      "loss: tensor(95.8525, grad_fn=<MeanBackward1>)\n",
      "loss: tensor(95.8525, grad_fn=<MeanBackward1>)\n",
      "loss: tensor(95.8525, grad_fn=<MeanBackward1>)\n",
      "loss: tensor(95.8525, grad_fn=<MeanBackward1>)\n",
      "loss: tensor(95.8525, grad_fn=<MeanBackward1>)\n",
      "loss: tensor(95.8525, grad_fn=<MeanBackward1>)\n",
      "loss: tensor(95.8525, grad_fn=<MeanBackward1>)\n",
      "loss: tensor(95.8525, grad_fn=<MeanBackward1>)\n",
      "loss: tensor(95.8525, grad_fn=<MeanBackward1>)\n",
      "loss: tensor(95.8525, grad_fn=<MeanBackward1>)\n",
      "loss: tensor(95.8525, grad_fn=<MeanBackward1>)\n",
      "loss: tensor(95.8525, grad_fn=<MeanBackward1>)\n",
      "loss: tensor(95.8525, grad_fn=<MeanBackward1>)\n",
      "loss: tensor(95.8524, grad_fn=<MeanBackward1>)\n",
      "loss: tensor(95.8525, grad_fn=<MeanBackward1>)\n",
      "loss: tensor(95.8524, grad_fn=<MeanBackward1>)\n",
      "loss: tensor(95.8524, grad_fn=<MeanBackward1>)\n",
      "loss: tensor(95.8524, grad_fn=<MeanBackward1>)\n",
      "loss: tensor(95.8524, grad_fn=<MeanBackward1>)\n",
      "loss: tensor(95.8524, grad_fn=<MeanBackward1>)\n",
      "loss: tensor(95.8524, grad_fn=<MeanBackward1>)\n",
      "loss: tensor(95.8524, grad_fn=<MeanBackward1>)\n",
      "loss: tensor(95.8524, grad_fn=<MeanBackward1>)\n",
      "loss: tensor(95.8524, grad_fn=<MeanBackward1>)\n",
      "loss: tensor(95.8524, grad_fn=<MeanBackward1>)\n",
      "loss: tensor(95.8524, grad_fn=<MeanBackward1>)\n",
      "loss: tensor(95.8524, grad_fn=<MeanBackward1>)\n",
      "loss: tensor(95.8524, grad_fn=<MeanBackward1>)\n",
      "loss: tensor(95.8524, grad_fn=<MeanBackward1>)\n",
      "loss: tensor(95.8524, grad_fn=<MeanBackward1>)\n",
      "loss: tensor(95.8524, grad_fn=<MeanBackward1>)\n",
      "loss: tensor(95.8524, grad_fn=<MeanBackward1>)\n",
      "loss: tensor(95.8524, grad_fn=<MeanBackward1>)\n",
      "loss: tensor(95.8523, grad_fn=<MeanBackward1>)\n",
      "loss: tensor(95.8524, grad_fn=<MeanBackward1>)\n",
      "loss: tensor(95.8523, grad_fn=<MeanBackward1>)\n",
      "loss: tensor(95.8523, grad_fn=<MeanBackward1>)\n",
      "loss: tensor(95.8523, grad_fn=<MeanBackward1>)\n",
      "loss: tensor(95.8523, grad_fn=<MeanBackward1>)\n",
      "loss: tensor(95.8523, grad_fn=<MeanBackward1>)\n",
      "loss: tensor(95.8523, grad_fn=<MeanBackward1>)\n",
      "loss: tensor(95.8523, grad_fn=<MeanBackward1>)\n",
      "loss: tensor(95.8523, grad_fn=<MeanBackward1>)\n",
      "loss: tensor(95.8523, grad_fn=<MeanBackward1>)\n",
      "loss: tensor(95.8523, grad_fn=<MeanBackward1>)\n",
      "loss: tensor(95.8523, grad_fn=<MeanBackward1>)\n",
      "loss: tensor(95.8523, grad_fn=<MeanBackward1>)\n",
      "loss: tensor(95.8523, grad_fn=<MeanBackward1>)\n",
      "loss: tensor(95.8523, grad_fn=<MeanBackward1>)\n",
      "loss: tensor(95.8523, grad_fn=<MeanBackward1>)\n",
      "loss: tensor(95.8523, grad_fn=<MeanBackward1>)\n",
      "loss: tensor(95.8523, grad_fn=<MeanBackward1>)\n",
      "loss: tensor(95.8523, grad_fn=<MeanBackward1>)\n",
      "loss: tensor(95.8523, grad_fn=<MeanBackward1>)\n",
      "loss: tensor(95.8523, grad_fn=<MeanBackward1>)\n",
      "loss: tensor(95.8523, grad_fn=<MeanBackward1>)\n",
      "loss: tensor(95.8523, grad_fn=<MeanBackward1>)\n",
      "loss: tensor(95.8523, grad_fn=<MeanBackward1>)\n",
      "loss: tensor(95.8523, grad_fn=<MeanBackward1>)\n",
      "loss: tensor(95.8523, grad_fn=<MeanBackward1>)\n",
      "loss: tensor(95.8523, grad_fn=<MeanBackward1>)\n",
      "loss: tensor(95.8522, grad_fn=<MeanBackward1>)\n",
      "loss: tensor(95.8523, grad_fn=<MeanBackward1>)\n",
      "loss: tensor(95.8522, grad_fn=<MeanBackward1>)\n",
      "loss: tensor(95.8522, grad_fn=<MeanBackward1>)\n",
      "loss: tensor(95.8522, grad_fn=<MeanBackward1>)\n",
      "loss: tensor(95.8522, grad_fn=<MeanBackward1>)\n",
      "loss: tensor(95.8522, grad_fn=<MeanBackward1>)\n",
      "loss: tensor(95.8522, grad_fn=<MeanBackward1>)\n",
      "loss: tensor(95.8522, grad_fn=<MeanBackward1>)\n",
      "loss: tensor(95.8522, grad_fn=<MeanBackward1>)\n",
      "loss: tensor(95.8522, grad_fn=<MeanBackward1>)\n",
      "loss: tensor(95.8522, grad_fn=<MeanBackward1>)\n",
      "loss: tensor(95.8522, grad_fn=<MeanBackward1>)\n",
      "loss: tensor(95.8522, grad_fn=<MeanBackward1>)\n",
      "loss: tensor(95.8522, grad_fn=<MeanBackward1>)\n",
      "loss: tensor(95.8522, grad_fn=<MeanBackward1>)\n",
      "loss: tensor(95.8522, grad_fn=<MeanBackward1>)\n",
      "loss: tensor(95.8522, grad_fn=<MeanBackward1>)\n",
      "loss: tensor(95.8522, grad_fn=<MeanBackward1>)\n",
      "loss: tensor(95.8521, grad_fn=<MeanBackward1>)\n",
      "loss: tensor(95.8522, grad_fn=<MeanBackward1>)\n",
      "loss: tensor(95.8522, grad_fn=<MeanBackward1>)\n",
      "loss: tensor(95.8522, grad_fn=<MeanBackward1>)\n",
      "loss: tensor(95.8522, grad_fn=<MeanBackward1>)\n",
      "loss: tensor(95.8522, grad_fn=<MeanBackward1>)\n",
      "loss: tensor(95.8522, grad_fn=<MeanBackward1>)\n",
      "loss: tensor(95.8521, grad_fn=<MeanBackward1>)\n",
      "loss: tensor(95.8521, grad_fn=<MeanBackward1>)\n",
      "loss: tensor(95.8521, grad_fn=<MeanBackward1>)\n",
      "loss: tensor(95.8521, grad_fn=<MeanBackward1>)\n",
      "loss: tensor(95.8521, grad_fn=<MeanBackward1>)\n",
      "loss: tensor(95.8521, grad_fn=<MeanBackward1>)\n",
      "loss: tensor(95.8521, grad_fn=<MeanBackward1>)\n",
      "loss: tensor(95.8521, grad_fn=<MeanBackward1>)\n",
      "loss: tensor(95.8521, grad_fn=<MeanBackward1>)\n",
      "loss: tensor(95.8521, grad_fn=<MeanBackward1>)\n",
      "loss: tensor(95.8521, grad_fn=<MeanBackward1>)\n",
      "loss: tensor(95.8521, grad_fn=<MeanBackward1>)\n",
      "loss: tensor(95.8521, grad_fn=<MeanBackward1>)\n",
      "loss: tensor(95.8521, grad_fn=<MeanBackward1>)\n",
      "loss: tensor(95.8521, grad_fn=<MeanBackward1>)\n",
      "loss: tensor(95.8521, grad_fn=<MeanBackward1>)\n",
      "loss: tensor(95.8521, grad_fn=<MeanBackward1>)\n",
      "loss: tensor(95.8521, grad_fn=<MeanBackward1>)\n",
      "loss: tensor(95.8521, grad_fn=<MeanBackward1>)\n",
      "loss: tensor(95.8521, grad_fn=<MeanBackward1>)\n",
      "loss: tensor(95.8521, grad_fn=<MeanBackward1>)\n",
      "loss: tensor(95.8521, grad_fn=<MeanBackward1>)\n",
      "loss: tensor(95.8520, grad_fn=<MeanBackward1>)\n",
      "loss: tensor(95.8520, grad_fn=<MeanBackward1>)\n",
      "loss: tensor(95.8520, grad_fn=<MeanBackward1>)\n",
      "loss: tensor(95.8520, grad_fn=<MeanBackward1>)\n",
      "loss: tensor(95.8521, grad_fn=<MeanBackward1>)\n",
      "loss: tensor(95.8520, grad_fn=<MeanBackward1>)\n",
      "loss: tensor(95.8520, grad_fn=<MeanBackward1>)\n",
      "loss: tensor(95.8520, grad_fn=<MeanBackward1>)\n",
      "loss: tensor(95.8520, grad_fn=<MeanBackward1>)\n",
      "loss: tensor(95.8520, grad_fn=<MeanBackward1>)\n",
      "loss: tensor(95.8520, grad_fn=<MeanBackward1>)\n",
      "loss: tensor(95.8520, grad_fn=<MeanBackward1>)\n",
      "loss: tensor(95.8520, grad_fn=<MeanBackward1>)\n",
      "loss: tensor(95.8520, grad_fn=<MeanBackward1>)\n",
      "loss: tensor(95.8520, grad_fn=<MeanBackward1>)\n",
      "loss: tensor(95.8520, grad_fn=<MeanBackward1>)\n",
      "loss: tensor(95.8520, grad_fn=<MeanBackward1>)\n",
      "loss: tensor(95.8520, grad_fn=<MeanBackward1>)\n",
      "loss: tensor(95.8520, grad_fn=<MeanBackward1>)\n",
      "loss: tensor(95.8520, grad_fn=<MeanBackward1>)\n",
      "loss: tensor(95.8520, grad_fn=<MeanBackward1>)\n",
      "loss: tensor(95.8520, grad_fn=<MeanBackward1>)\n",
      "loss: tensor(95.8520, grad_fn=<MeanBackward1>)\n",
      "loss: tensor(95.8520, grad_fn=<MeanBackward1>)\n",
      "loss: tensor(95.8519, grad_fn=<MeanBackward1>)\n",
      "loss: tensor(95.8520, grad_fn=<MeanBackward1>)\n",
      "loss: tensor(95.8520, grad_fn=<MeanBackward1>)\n",
      "loss: tensor(95.8520, grad_fn=<MeanBackward1>)\n",
      "loss: tensor(95.8519, grad_fn=<MeanBackward1>)\n",
      "loss: tensor(95.8519, grad_fn=<MeanBackward1>)\n",
      "loss: tensor(95.8520, grad_fn=<MeanBackward1>)\n",
      "loss: tensor(95.8520, grad_fn=<MeanBackward1>)\n",
      "loss: tensor(95.8519, grad_fn=<MeanBackward1>)\n",
      "loss: tensor(95.8519, grad_fn=<MeanBackward1>)\n",
      "loss: tensor(95.8519, grad_fn=<MeanBackward1>)\n",
      "loss: tensor(95.8519, grad_fn=<MeanBackward1>)\n",
      "loss: tensor(95.8519, grad_fn=<MeanBackward1>)\n",
      "loss: tensor(95.8519, grad_fn=<MeanBackward1>)\n",
      "loss: tensor(95.8519, grad_fn=<MeanBackward1>)\n",
      "loss: tensor(95.8519, grad_fn=<MeanBackward1>)\n",
      "loss: tensor(95.8519, grad_fn=<MeanBackward1>)\n",
      "loss: tensor(95.8519, grad_fn=<MeanBackward1>)\n",
      "loss: tensor(95.8519, grad_fn=<MeanBackward1>)\n",
      "loss: tensor(95.8519, grad_fn=<MeanBackward1>)\n",
      "loss: tensor(95.8519, grad_fn=<MeanBackward1>)\n",
      "loss: tensor(95.8519, grad_fn=<MeanBackward1>)\n",
      "loss: tensor(95.8519, grad_fn=<MeanBackward1>)\n",
      "loss: tensor(95.8519, grad_fn=<MeanBackward1>)\n",
      "loss: tensor(95.8519, grad_fn=<MeanBackward1>)\n",
      "loss: tensor(95.8519, grad_fn=<MeanBackward1>)\n",
      "loss: tensor(95.8519, grad_fn=<MeanBackward1>)\n",
      "loss: tensor(95.8519, grad_fn=<MeanBackward1>)\n",
      "loss: tensor(95.8518, grad_fn=<MeanBackward1>)\n",
      "loss: tensor(95.8518, grad_fn=<MeanBackward1>)\n",
      "loss: tensor(95.8518, grad_fn=<MeanBackward1>)\n",
      "loss: tensor(95.8518, grad_fn=<MeanBackward1>)\n",
      "loss: tensor(95.8518, grad_fn=<MeanBackward1>)\n",
      "loss: tensor(95.8518, grad_fn=<MeanBackward1>)\n",
      "loss: tensor(95.8518, grad_fn=<MeanBackward1>)\n",
      "loss: tensor(95.8518, grad_fn=<MeanBackward1>)\n",
      "loss: tensor(95.8518, grad_fn=<MeanBackward1>)\n",
      "loss: tensor(95.8518, grad_fn=<MeanBackward1>)\n",
      "loss: tensor(95.8518, grad_fn=<MeanBackward1>)\n",
      "loss: tensor(95.8518, grad_fn=<MeanBackward1>)\n",
      "loss: tensor(95.8518, grad_fn=<MeanBackward1>)\n",
      "loss: tensor(95.8518, grad_fn=<MeanBackward1>)\n",
      "loss: tensor(95.8518, grad_fn=<MeanBackward1>)\n",
      "loss: tensor(95.8518, grad_fn=<MeanBackward1>)\n",
      "loss: tensor(95.8518, grad_fn=<MeanBackward1>)\n",
      "loss: tensor(95.8518, grad_fn=<MeanBackward1>)\n",
      "loss: tensor(95.8518, grad_fn=<MeanBackward1>)\n",
      "loss: tensor(95.8518, grad_fn=<MeanBackward1>)\n",
      "loss: tensor(95.8518, grad_fn=<MeanBackward1>)\n",
      "loss: tensor(95.8518, grad_fn=<MeanBackward1>)\n",
      "loss: tensor(95.8517, grad_fn=<MeanBackward1>)\n",
      "loss: tensor(95.8517, grad_fn=<MeanBackward1>)\n",
      "loss: tensor(95.8517, grad_fn=<MeanBackward1>)\n",
      "loss: tensor(95.8517, grad_fn=<MeanBackward1>)\n",
      "loss: tensor(95.8517, grad_fn=<MeanBackward1>)\n",
      "loss: tensor(95.8517, grad_fn=<MeanBackward1>)\n",
      "loss: tensor(95.8517, grad_fn=<MeanBackward1>)\n",
      "loss: tensor(95.8517, grad_fn=<MeanBackward1>)\n",
      "loss: tensor(95.8517, grad_fn=<MeanBackward1>)\n",
      "loss: tensor(95.8517, grad_fn=<MeanBackward1>)\n",
      "loss: tensor(95.8517, grad_fn=<MeanBackward1>)\n",
      "loss: tensor(95.8517, grad_fn=<MeanBackward1>)\n",
      "loss: tensor(95.8517, grad_fn=<MeanBackward1>)\n",
      "loss: tensor(95.8517, grad_fn=<MeanBackward1>)\n",
      "loss: tensor(95.8517, grad_fn=<MeanBackward1>)\n",
      "loss: tensor(95.8517, grad_fn=<MeanBackward1>)\n",
      "loss: tensor(95.8517, grad_fn=<MeanBackward1>)\n",
      "loss: tensor(95.8517, grad_fn=<MeanBackward1>)\n",
      "loss: tensor(95.8517, grad_fn=<MeanBackward1>)\n",
      "loss: tensor(95.8517, grad_fn=<MeanBackward1>)\n",
      "loss: tensor(95.8517, grad_fn=<MeanBackward1>)\n",
      "loss: tensor(95.8517, grad_fn=<MeanBackward1>)\n",
      "loss: tensor(95.8517, grad_fn=<MeanBackward1>)\n",
      "loss: tensor(95.8517, grad_fn=<MeanBackward1>)\n",
      "loss: tensor(95.8517, grad_fn=<MeanBackward1>)\n",
      "loss: tensor(95.8517, grad_fn=<MeanBackward1>)\n",
      "loss: tensor(95.8517, grad_fn=<MeanBackward1>)\n",
      "loss: tensor(95.8516, grad_fn=<MeanBackward1>)\n",
      "loss: tensor(95.8516, grad_fn=<MeanBackward1>)\n",
      "loss: tensor(95.8516, grad_fn=<MeanBackward1>)\n",
      "loss: tensor(95.8516, grad_fn=<MeanBackward1>)\n",
      "loss: tensor(95.8516, grad_fn=<MeanBackward1>)\n",
      "loss: tensor(95.8516, grad_fn=<MeanBackward1>)\n",
      "loss: tensor(95.8516, grad_fn=<MeanBackward1>)\n",
      "loss: tensor(95.8516, grad_fn=<MeanBackward1>)\n",
      "loss: tensor(95.8516, grad_fn=<MeanBackward1>)\n",
      "loss: tensor(95.8516, grad_fn=<MeanBackward1>)\n",
      "loss: tensor(95.8516, grad_fn=<MeanBackward1>)\n",
      "loss: tensor(95.8516, grad_fn=<MeanBackward1>)\n",
      "loss: tensor(95.8516, grad_fn=<MeanBackward1>)\n",
      "loss: tensor(95.8516, grad_fn=<MeanBackward1>)\n",
      "loss: tensor(95.8516, grad_fn=<MeanBackward1>)\n",
      "loss: tensor(95.8516, grad_fn=<MeanBackward1>)\n",
      "loss: tensor(95.8516, grad_fn=<MeanBackward1>)\n",
      "loss: tensor(95.8516, grad_fn=<MeanBackward1>)\n",
      "loss: tensor(95.8516, grad_fn=<MeanBackward1>)\n",
      "loss: tensor(95.8516, grad_fn=<MeanBackward1>)\n",
      "loss: tensor(95.8516, grad_fn=<MeanBackward1>)\n",
      "loss: tensor(95.8516, grad_fn=<MeanBackward1>)\n",
      "loss: tensor(95.8516, grad_fn=<MeanBackward1>)\n",
      "loss: tensor(95.8516, grad_fn=<MeanBackward1>)\n",
      "loss: tensor(95.8516, grad_fn=<MeanBackward1>)\n",
      "loss: tensor(95.8516, grad_fn=<MeanBackward1>)\n",
      "loss: tensor(95.8516, grad_fn=<MeanBackward1>)\n",
      "loss: tensor(95.8516, grad_fn=<MeanBackward1>)\n",
      "loss: tensor(95.8515, grad_fn=<MeanBackward1>)\n",
      "loss: tensor(95.8515, grad_fn=<MeanBackward1>)\n",
      "loss: tensor(95.8515, grad_fn=<MeanBackward1>)\n",
      "loss: tensor(95.8515, grad_fn=<MeanBackward1>)\n",
      "loss: tensor(95.8515, grad_fn=<MeanBackward1>)\n",
      "loss: tensor(95.8515, grad_fn=<MeanBackward1>)\n",
      "loss: tensor(95.8515, grad_fn=<MeanBackward1>)\n",
      "loss: tensor(95.8515, grad_fn=<MeanBackward1>)\n",
      "loss: tensor(95.8515, grad_fn=<MeanBackward1>)\n",
      "loss: tensor(95.8515, grad_fn=<MeanBackward1>)\n",
      "loss: tensor(95.8515, grad_fn=<MeanBackward1>)\n",
      "loss: tensor(95.8515, grad_fn=<MeanBackward1>)\n",
      "loss: tensor(95.8515, grad_fn=<MeanBackward1>)\n",
      "loss: tensor(95.8515, grad_fn=<MeanBackward1>)\n",
      "loss: tensor(95.8515, grad_fn=<MeanBackward1>)\n",
      "loss: tensor(95.8515, grad_fn=<MeanBackward1>)\n",
      "loss: tensor(95.8515, grad_fn=<MeanBackward1>)\n",
      "loss: tensor(95.8515, grad_fn=<MeanBackward1>)\n",
      "loss: tensor(95.8515, grad_fn=<MeanBackward1>)\n",
      "loss: tensor(95.8515, grad_fn=<MeanBackward1>)\n",
      "loss: tensor(95.8515, grad_fn=<MeanBackward1>)\n",
      "loss: tensor(95.8515, grad_fn=<MeanBackward1>)\n",
      "loss: tensor(95.8515, grad_fn=<MeanBackward1>)\n",
      "loss: tensor(95.8515, grad_fn=<MeanBackward1>)\n",
      "loss: tensor(95.8514, grad_fn=<MeanBackward1>)\n",
      "loss: tensor(95.8514, grad_fn=<MeanBackward1>)\n",
      "loss: tensor(95.8515, grad_fn=<MeanBackward1>)\n",
      "loss: tensor(95.8514, grad_fn=<MeanBackward1>)\n",
      "loss: tensor(95.8514, grad_fn=<MeanBackward1>)\n",
      "loss: tensor(95.8514, grad_fn=<MeanBackward1>)\n",
      "loss: tensor(95.8514, grad_fn=<MeanBackward1>)\n",
      "loss: tensor(95.8514, grad_fn=<MeanBackward1>)\n",
      "loss: tensor(95.8514, grad_fn=<MeanBackward1>)\n",
      "loss: tensor(95.8514, grad_fn=<MeanBackward1>)\n",
      "loss: tensor(95.8514, grad_fn=<MeanBackward1>)\n",
      "loss: tensor(95.8514, grad_fn=<MeanBackward1>)\n",
      "loss: tensor(95.8514, grad_fn=<MeanBackward1>)\n",
      "loss: tensor(95.8514, grad_fn=<MeanBackward1>)\n",
      "loss: tensor(95.8514, grad_fn=<MeanBackward1>)\n",
      "loss: tensor(95.8514, grad_fn=<MeanBackward1>)\n",
      "loss: tensor(95.8514, grad_fn=<MeanBackward1>)\n",
      "loss: tensor(95.8514, grad_fn=<MeanBackward1>)\n",
      "loss: tensor(95.8514, grad_fn=<MeanBackward1>)\n",
      "loss: tensor(95.8514, grad_fn=<MeanBackward1>)\n",
      "loss: tensor(95.8514, grad_fn=<MeanBackward1>)\n",
      "loss: tensor(95.8514, grad_fn=<MeanBackward1>)\n",
      "loss: tensor(95.8514, grad_fn=<MeanBackward1>)\n",
      "loss: tensor(95.8514, grad_fn=<MeanBackward1>)\n",
      "loss: tensor(95.8514, grad_fn=<MeanBackward1>)\n",
      "loss: tensor(95.8514, grad_fn=<MeanBackward1>)\n",
      "loss: tensor(95.8514, grad_fn=<MeanBackward1>)\n",
      "loss: tensor(95.8513, grad_fn=<MeanBackward1>)\n",
      "loss: tensor(95.8513, grad_fn=<MeanBackward1>)\n",
      "loss: tensor(95.8513, grad_fn=<MeanBackward1>)\n",
      "loss: tensor(95.8513, grad_fn=<MeanBackward1>)\n",
      "loss: tensor(95.8513, grad_fn=<MeanBackward1>)\n",
      "loss: tensor(95.8513, grad_fn=<MeanBackward1>)\n",
      "loss: tensor(95.8513, grad_fn=<MeanBackward1>)\n",
      "loss: tensor(95.8513, grad_fn=<MeanBackward1>)\n",
      "loss: tensor(95.8513, grad_fn=<MeanBackward1>)\n",
      "loss: tensor(95.8513, grad_fn=<MeanBackward1>)\n",
      "loss: tensor(95.8513, grad_fn=<MeanBackward1>)\n",
      "loss: tensor(95.8513, grad_fn=<MeanBackward1>)\n",
      "loss: tensor(95.8513, grad_fn=<MeanBackward1>)\n",
      "loss: tensor(95.8513, grad_fn=<MeanBackward1>)\n",
      "loss: tensor(95.8513, grad_fn=<MeanBackward1>)\n",
      "loss: tensor(95.8513, grad_fn=<MeanBackward1>)\n",
      "loss: tensor(95.8513, grad_fn=<MeanBackward1>)\n",
      "loss: tensor(95.8513, grad_fn=<MeanBackward1>)\n",
      "loss: tensor(95.8513, grad_fn=<MeanBackward1>)\n",
      "loss: tensor(95.8513, grad_fn=<MeanBackward1>)\n",
      "loss: tensor(95.8513, grad_fn=<MeanBackward1>)\n",
      "loss: tensor(95.8513, grad_fn=<MeanBackward1>)\n",
      "loss: tensor(95.8513, grad_fn=<MeanBackward1>)\n",
      "loss: tensor(95.8512, grad_fn=<MeanBackward1>)\n",
      "loss: tensor(95.8512, grad_fn=<MeanBackward1>)\n",
      "loss: tensor(95.8513, grad_fn=<MeanBackward1>)\n",
      "loss: tensor(95.8512, grad_fn=<MeanBackward1>)\n",
      "loss: tensor(95.8512, grad_fn=<MeanBackward1>)\n",
      "loss: tensor(95.8512, grad_fn=<MeanBackward1>)\n",
      "loss: tensor(95.8512, grad_fn=<MeanBackward1>)\n",
      "loss: tensor(95.8512, grad_fn=<MeanBackward1>)\n",
      "loss: tensor(95.8512, grad_fn=<MeanBackward1>)\n",
      "loss: tensor(95.8512, grad_fn=<MeanBackward1>)\n",
      "loss: tensor(95.8512, grad_fn=<MeanBackward1>)\n",
      "loss: tensor(95.8512, grad_fn=<MeanBackward1>)\n",
      "loss: tensor(95.8512, grad_fn=<MeanBackward1>)\n",
      "loss: tensor(95.8512, grad_fn=<MeanBackward1>)\n",
      "loss: tensor(95.8512, grad_fn=<MeanBackward1>)\n",
      "loss: tensor(95.8512, grad_fn=<MeanBackward1>)\n",
      "loss: tensor(95.8512, grad_fn=<MeanBackward1>)\n",
      "loss: tensor(95.8512, grad_fn=<MeanBackward1>)\n",
      "loss: tensor(95.8512, grad_fn=<MeanBackward1>)\n",
      "loss: tensor(95.8512, grad_fn=<MeanBackward1>)\n",
      "loss: tensor(95.8512, grad_fn=<MeanBackward1>)\n",
      "loss: tensor(95.8512, grad_fn=<MeanBackward1>)\n",
      "loss: tensor(95.8512, grad_fn=<MeanBackward1>)\n",
      "loss: tensor(95.8512, grad_fn=<MeanBackward1>)\n",
      "loss: tensor(95.8511, grad_fn=<MeanBackward1>)\n",
      "loss: tensor(95.8511, grad_fn=<MeanBackward1>)\n",
      "loss: tensor(95.8511, grad_fn=<MeanBackward1>)\n",
      "loss: tensor(95.8512, grad_fn=<MeanBackward1>)\n",
      "loss: tensor(95.8512, grad_fn=<MeanBackward1>)\n",
      "loss: tensor(95.8511, grad_fn=<MeanBackward1>)\n",
      "loss: tensor(95.8511, grad_fn=<MeanBackward1>)\n",
      "loss: tensor(95.8511, grad_fn=<MeanBackward1>)\n",
      "loss: tensor(95.8511, grad_fn=<MeanBackward1>)\n",
      "loss: tensor(95.8511, grad_fn=<MeanBackward1>)\n",
      "loss: tensor(95.8511, grad_fn=<MeanBackward1>)\n",
      "loss: tensor(95.8511, grad_fn=<MeanBackward1>)\n",
      "loss: tensor(95.8511, grad_fn=<MeanBackward1>)\n",
      "loss: tensor(95.8511, grad_fn=<MeanBackward1>)\n",
      "loss: tensor(95.8511, grad_fn=<MeanBackward1>)\n",
      "loss: tensor(95.8511, grad_fn=<MeanBackward1>)\n",
      "loss: tensor(95.8511, grad_fn=<MeanBackward1>)\n",
      "loss: tensor(95.8511, grad_fn=<MeanBackward1>)\n",
      "loss: tensor(95.8511, grad_fn=<MeanBackward1>)\n",
      "loss: tensor(95.8511, grad_fn=<MeanBackward1>)\n",
      "loss: tensor(95.8511, grad_fn=<MeanBackward1>)\n",
      "loss: tensor(95.8511, grad_fn=<MeanBackward1>)\n",
      "loss: tensor(95.8511, grad_fn=<MeanBackward1>)\n",
      "loss: tensor(95.8511, grad_fn=<MeanBackward1>)\n",
      "loss: tensor(95.8511, grad_fn=<MeanBackward1>)\n",
      "loss: tensor(95.8511, grad_fn=<MeanBackward1>)\n",
      "loss: tensor(95.8511, grad_fn=<MeanBackward1>)\n",
      "loss: tensor(95.8511, grad_fn=<MeanBackward1>)\n",
      "loss: tensor(95.8511, grad_fn=<MeanBackward1>)\n",
      "loss: tensor(95.8510, grad_fn=<MeanBackward1>)\n",
      "loss: tensor(95.8510, grad_fn=<MeanBackward1>)\n",
      "loss: tensor(95.8510, grad_fn=<MeanBackward1>)\n",
      "loss: tensor(95.8510, grad_fn=<MeanBackward1>)\n",
      "loss: tensor(95.8510, grad_fn=<MeanBackward1>)\n",
      "loss: tensor(95.8510, grad_fn=<MeanBackward1>)\n",
      "loss: tensor(95.8510, grad_fn=<MeanBackward1>)\n",
      "loss: tensor(95.8510, grad_fn=<MeanBackward1>)\n",
      "loss: tensor(95.8510, grad_fn=<MeanBackward1>)\n",
      "loss: tensor(95.8510, grad_fn=<MeanBackward1>)\n",
      "loss: tensor(95.8510, grad_fn=<MeanBackward1>)\n",
      "loss: tensor(95.8510, grad_fn=<MeanBackward1>)\n",
      "loss: tensor(95.8510, grad_fn=<MeanBackward1>)\n",
      "loss: tensor(95.8510, grad_fn=<MeanBackward1>)\n",
      "loss: tensor(95.8510, grad_fn=<MeanBackward1>)\n",
      "loss: tensor(95.8510, grad_fn=<MeanBackward1>)\n",
      "loss: tensor(95.8510, grad_fn=<MeanBackward1>)\n",
      "loss: tensor(95.8510, grad_fn=<MeanBackward1>)\n",
      "loss: tensor(95.8510, grad_fn=<MeanBackward1>)\n",
      "loss: tensor(95.8510, grad_fn=<MeanBackward1>)\n",
      "loss: tensor(95.8510, grad_fn=<MeanBackward1>)\n",
      "loss: tensor(95.8510, grad_fn=<MeanBackward1>)\n",
      "loss: tensor(95.8510, grad_fn=<MeanBackward1>)\n",
      "loss: tensor(95.8509, grad_fn=<MeanBackward1>)\n",
      "loss: tensor(95.8509, grad_fn=<MeanBackward1>)\n",
      "loss: tensor(95.8509, grad_fn=<MeanBackward1>)\n",
      "loss: tensor(95.8509, grad_fn=<MeanBackward1>)\n",
      "loss: tensor(95.8509, grad_fn=<MeanBackward1>)\n",
      "loss: tensor(95.8509, grad_fn=<MeanBackward1>)\n",
      "loss: tensor(95.8509, grad_fn=<MeanBackward1>)\n",
      "loss: tensor(95.8509, grad_fn=<MeanBackward1>)\n",
      "loss: tensor(95.8509, grad_fn=<MeanBackward1>)\n",
      "loss: tensor(95.8509, grad_fn=<MeanBackward1>)\n",
      "loss: tensor(95.8509, grad_fn=<MeanBackward1>)\n",
      "loss: tensor(95.8509, grad_fn=<MeanBackward1>)\n",
      "loss: tensor(95.8509, grad_fn=<MeanBackward1>)\n",
      "loss: tensor(95.8509, grad_fn=<MeanBackward1>)\n",
      "loss: tensor(95.8509, grad_fn=<MeanBackward1>)\n",
      "loss: tensor(95.8509, grad_fn=<MeanBackward1>)\n",
      "loss: tensor(95.8509, grad_fn=<MeanBackward1>)\n",
      "loss: tensor(95.8509, grad_fn=<MeanBackward1>)\n",
      "loss: tensor(95.8509, grad_fn=<MeanBackward1>)\n",
      "loss: tensor(95.8509, grad_fn=<MeanBackward1>)\n",
      "loss: tensor(95.8509, grad_fn=<MeanBackward1>)\n",
      "loss: tensor(95.8509, grad_fn=<MeanBackward1>)\n",
      "loss: tensor(95.8509, grad_fn=<MeanBackward1>)\n",
      "loss: tensor(95.8509, grad_fn=<MeanBackward1>)\n",
      "loss: tensor(95.8509, grad_fn=<MeanBackward1>)\n",
      "loss: tensor(95.8509, grad_fn=<MeanBackward1>)\n",
      "loss: tensor(95.8508, grad_fn=<MeanBackward1>)\n",
      "loss: tensor(95.8509, grad_fn=<MeanBackward1>)\n",
      "loss: tensor(95.8509, grad_fn=<MeanBackward1>)\n",
      "loss: tensor(95.8508, grad_fn=<MeanBackward1>)\n",
      "loss: tensor(95.8508, grad_fn=<MeanBackward1>)\n"
     ]
    }
   ],
   "source": [
    "for i in range(1000):\n",
    "    predictions = a.expand_as(x_train)*x_train + b.expand_as(x_train)\n",
    "    loss = torch.mean((predictions-y_train)**2)\n",
    "    print('loss:',loss)\n",
    "    loss.backward()\n",
    "    a.data.add_(-learning_rate*a.grad.data)\n",
    "    b.data.add_(-learning_rate*b.grad.data)\n",
    "    a.grad.data.zero_()\n",
    "    b.grad.data.zero_()"
   ]
  },
  {
   "cell_type": "code",
   "execution_count": 36,
   "metadata": {},
   "outputs": [
    {
     "output_type": "display_data",
     "data": {
      "text/plain": "<Figure size 720x504 with 1 Axes>",
      "image/svg+xml": "<?xml version=\"1.0\" encoding=\"utf-8\" standalone=\"no\"?>\r\n<!DOCTYPE svg PUBLIC \"-//W3C//DTD SVG 1.1//EN\"\r\n  \"http://www.w3.org/Graphics/SVG/1.1/DTD/svg11.dtd\">\r\n<!-- Created with matplotlib (https://matplotlib.org/) -->\r\n<svg height=\"425.27625pt\" version=\"1.1\" viewBox=\"0 0 614.182812 425.27625\" width=\"614.182812pt\" xmlns=\"http://www.w3.org/2000/svg\" xmlns:xlink=\"http://www.w3.org/1999/xlink\">\r\n <metadata>\r\n  <rdf:RDF xmlns:cc=\"http://creativecommons.org/ns#\" xmlns:dc=\"http://purl.org/dc/elements/1.1/\" xmlns:rdf=\"http://www.w3.org/1999/02/22-rdf-syntax-ns#\">\r\n   <cc:Work>\r\n    <dc:type rdf:resource=\"http://purl.org/dc/dcmitype/StillImage\"/>\r\n    <dc:date>2020-11-04T21:30:08.869857</dc:date>\r\n    <dc:format>image/svg+xml</dc:format>\r\n    <dc:creator>\r\n     <cc:Agent>\r\n      <dc:title>Matplotlib v3.3.2, https://matplotlib.org/</dc:title>\r\n     </cc:Agent>\r\n    </dc:creator>\r\n   </cc:Work>\r\n  </rdf:RDF>\r\n </metadata>\r\n <defs>\r\n  <style type=\"text/css\">*{stroke-linecap:butt;stroke-linejoin:round;}</style>\r\n </defs>\r\n <g id=\"figure_1\">\r\n  <g id=\"patch_1\">\r\n   <path d=\"M 0 425.27625 \r\nL 614.182812 425.27625 \r\nL 614.182812 0 \r\nL 0 0 \r\nz\r\n\" style=\"fill:none;\"/>\r\n  </g>\r\n  <g id=\"axes_1\">\r\n   <g id=\"patch_2\">\r\n    <path d=\"M 48.982812 387.72 \r\nL 606.982813 387.72 \r\nL 606.982813 7.2 \r\nL 48.982812 7.2 \r\nz\r\n\" style=\"fill:#ffffff;\"/>\r\n   </g>\r\n   <g id=\"matplotlib.axis_1\">\r\n    <g id=\"xtick_1\">\r\n     <g id=\"line2d_1\">\r\n      <defs>\r\n       <path d=\"M 0 0 \r\nL 0 3.5 \r\n\" id=\"m11b96dc165\" style=\"stroke:#000000;stroke-width:0.8;\"/>\r\n      </defs>\r\n      <g>\r\n       <use style=\"stroke:#000000;stroke-width:0.8;\" x=\"74.346449\" xlink:href=\"#m11b96dc165\" y=\"387.72\"/>\r\n      </g>\r\n     </g>\r\n     <g id=\"text_1\">\r\n      <!-- 0 -->\r\n      <g transform=\"translate(71.165199 402.318437)scale(0.1 -0.1)\">\r\n       <defs>\r\n        <path d=\"M 31.78125 66.40625 \r\nQ 24.171875 66.40625 20.328125 58.90625 \r\nQ 16.5 51.421875 16.5 36.375 \r\nQ 16.5 21.390625 20.328125 13.890625 \r\nQ 24.171875 6.390625 31.78125 6.390625 \r\nQ 39.453125 6.390625 43.28125 13.890625 \r\nQ 47.125 21.390625 47.125 36.375 \r\nQ 47.125 51.421875 43.28125 58.90625 \r\nQ 39.453125 66.40625 31.78125 66.40625 \r\nz\r\nM 31.78125 74.21875 \r\nQ 44.046875 74.21875 50.515625 64.515625 \r\nQ 56.984375 54.828125 56.984375 36.375 \r\nQ 56.984375 17.96875 50.515625 8.265625 \r\nQ 44.046875 -1.421875 31.78125 -1.421875 \r\nQ 19.53125 -1.421875 13.0625 8.265625 \r\nQ 6.59375 17.96875 6.59375 36.375 \r\nQ 6.59375 54.828125 13.0625 64.515625 \r\nQ 19.53125 74.21875 31.78125 74.21875 \r\nz\r\n\" id=\"DejaVuSans-48\"/>\r\n       </defs>\r\n       <use xlink:href=\"#DejaVuSans-48\"/>\r\n      </g>\r\n     </g>\r\n    </g>\r\n    <g id=\"xtick_2\">\r\n     <g id=\"line2d_2\">\r\n      <g>\r\n       <use style=\"stroke:#000000;stroke-width:0.8;\" x=\"187.200385\" xlink:href=\"#m11b96dc165\" y=\"387.72\"/>\r\n      </g>\r\n     </g>\r\n     <g id=\"text_2\">\r\n      <!-- 20 -->\r\n      <g transform=\"translate(180.837885 402.318437)scale(0.1 -0.1)\">\r\n       <defs>\r\n        <path d=\"M 19.1875 8.296875 \r\nL 53.609375 8.296875 \r\nL 53.609375 0 \r\nL 7.328125 0 \r\nL 7.328125 8.296875 \r\nQ 12.9375 14.109375 22.625 23.890625 \r\nQ 32.328125 33.6875 34.8125 36.53125 \r\nQ 39.546875 41.84375 41.421875 45.53125 \r\nQ 43.3125 49.21875 43.3125 52.78125 \r\nQ 43.3125 58.59375 39.234375 62.25 \r\nQ 35.15625 65.921875 28.609375 65.921875 \r\nQ 23.96875 65.921875 18.8125 64.3125 \r\nQ 13.671875 62.703125 7.8125 59.421875 \r\nL 7.8125 69.390625 \r\nQ 13.765625 71.78125 18.9375 73 \r\nQ 24.125 74.21875 28.421875 74.21875 \r\nQ 39.75 74.21875 46.484375 68.546875 \r\nQ 53.21875 62.890625 53.21875 53.421875 \r\nQ 53.21875 48.921875 51.53125 44.890625 \r\nQ 49.859375 40.875 45.40625 35.40625 \r\nQ 44.1875 33.984375 37.640625 27.21875 \r\nQ 31.109375 20.453125 19.1875 8.296875 \r\nz\r\n\" id=\"DejaVuSans-50\"/>\r\n       </defs>\r\n       <use xlink:href=\"#DejaVuSans-50\"/>\r\n       <use x=\"63.623047\" xlink:href=\"#DejaVuSans-48\"/>\r\n      </g>\r\n     </g>\r\n    </g>\r\n    <g id=\"xtick_3\">\r\n     <g id=\"line2d_3\">\r\n      <g>\r\n       <use style=\"stroke:#000000;stroke-width:0.8;\" x=\"300.054322\" xlink:href=\"#m11b96dc165\" y=\"387.72\"/>\r\n      </g>\r\n     </g>\r\n     <g id=\"text_3\">\r\n      <!-- 40 -->\r\n      <g transform=\"translate(293.691822 402.318437)scale(0.1 -0.1)\">\r\n       <defs>\r\n        <path d=\"M 37.796875 64.3125 \r\nL 12.890625 25.390625 \r\nL 37.796875 25.390625 \r\nz\r\nM 35.203125 72.90625 \r\nL 47.609375 72.90625 \r\nL 47.609375 25.390625 \r\nL 58.015625 25.390625 \r\nL 58.015625 17.1875 \r\nL 47.609375 17.1875 \r\nL 47.609375 0 \r\nL 37.796875 0 \r\nL 37.796875 17.1875 \r\nL 4.890625 17.1875 \r\nL 4.890625 26.703125 \r\nz\r\n\" id=\"DejaVuSans-52\"/>\r\n       </defs>\r\n       <use xlink:href=\"#DejaVuSans-52\"/>\r\n       <use x=\"63.623047\" xlink:href=\"#DejaVuSans-48\"/>\r\n      </g>\r\n     </g>\r\n    </g>\r\n    <g id=\"xtick_4\">\r\n     <g id=\"line2d_4\">\r\n      <g>\r\n       <use style=\"stroke:#000000;stroke-width:0.8;\" x=\"412.908258\" xlink:href=\"#m11b96dc165\" y=\"387.72\"/>\r\n      </g>\r\n     </g>\r\n     <g id=\"text_4\">\r\n      <!-- 60 -->\r\n      <g transform=\"translate(406.545758 402.318437)scale(0.1 -0.1)\">\r\n       <defs>\r\n        <path d=\"M 33.015625 40.375 \r\nQ 26.375 40.375 22.484375 35.828125 \r\nQ 18.609375 31.296875 18.609375 23.390625 \r\nQ 18.609375 15.53125 22.484375 10.953125 \r\nQ 26.375 6.390625 33.015625 6.390625 \r\nQ 39.65625 6.390625 43.53125 10.953125 \r\nQ 47.40625 15.53125 47.40625 23.390625 \r\nQ 47.40625 31.296875 43.53125 35.828125 \r\nQ 39.65625 40.375 33.015625 40.375 \r\nz\r\nM 52.59375 71.296875 \r\nL 52.59375 62.3125 \r\nQ 48.875 64.0625 45.09375 64.984375 \r\nQ 41.3125 65.921875 37.59375 65.921875 \r\nQ 27.828125 65.921875 22.671875 59.328125 \r\nQ 17.53125 52.734375 16.796875 39.40625 \r\nQ 19.671875 43.65625 24.015625 45.921875 \r\nQ 28.375 48.1875 33.59375 48.1875 \r\nQ 44.578125 48.1875 50.953125 41.515625 \r\nQ 57.328125 34.859375 57.328125 23.390625 \r\nQ 57.328125 12.15625 50.6875 5.359375 \r\nQ 44.046875 -1.421875 33.015625 -1.421875 \r\nQ 20.359375 -1.421875 13.671875 8.265625 \r\nQ 6.984375 17.96875 6.984375 36.375 \r\nQ 6.984375 53.65625 15.1875 63.9375 \r\nQ 23.390625 74.21875 37.203125 74.21875 \r\nQ 40.921875 74.21875 44.703125 73.484375 \r\nQ 48.484375 72.75 52.59375 71.296875 \r\nz\r\n\" id=\"DejaVuSans-54\"/>\r\n       </defs>\r\n       <use xlink:href=\"#DejaVuSans-54\"/>\r\n       <use x=\"63.623047\" xlink:href=\"#DejaVuSans-48\"/>\r\n      </g>\r\n     </g>\r\n    </g>\r\n    <g id=\"xtick_5\">\r\n     <g id=\"line2d_5\">\r\n      <g>\r\n       <use style=\"stroke:#000000;stroke-width:0.8;\" x=\"525.762195\" xlink:href=\"#m11b96dc165\" y=\"387.72\"/>\r\n      </g>\r\n     </g>\r\n     <g id=\"text_5\">\r\n      <!-- 80 -->\r\n      <g transform=\"translate(519.399695 402.318437)scale(0.1 -0.1)\">\r\n       <defs>\r\n        <path d=\"M 31.78125 34.625 \r\nQ 24.75 34.625 20.71875 30.859375 \r\nQ 16.703125 27.09375 16.703125 20.515625 \r\nQ 16.703125 13.921875 20.71875 10.15625 \r\nQ 24.75 6.390625 31.78125 6.390625 \r\nQ 38.8125 6.390625 42.859375 10.171875 \r\nQ 46.921875 13.96875 46.921875 20.515625 \r\nQ 46.921875 27.09375 42.890625 30.859375 \r\nQ 38.875 34.625 31.78125 34.625 \r\nz\r\nM 21.921875 38.8125 \r\nQ 15.578125 40.375 12.03125 44.71875 \r\nQ 8.5 49.078125 8.5 55.328125 \r\nQ 8.5 64.0625 14.71875 69.140625 \r\nQ 20.953125 74.21875 31.78125 74.21875 \r\nQ 42.671875 74.21875 48.875 69.140625 \r\nQ 55.078125 64.0625 55.078125 55.328125 \r\nQ 55.078125 49.078125 51.53125 44.71875 \r\nQ 48 40.375 41.703125 38.8125 \r\nQ 48.828125 37.15625 52.796875 32.3125 \r\nQ 56.78125 27.484375 56.78125 20.515625 \r\nQ 56.78125 9.90625 50.3125 4.234375 \r\nQ 43.84375 -1.421875 31.78125 -1.421875 \r\nQ 19.734375 -1.421875 13.25 4.234375 \r\nQ 6.78125 9.90625 6.78125 20.515625 \r\nQ 6.78125 27.484375 10.78125 32.3125 \r\nQ 14.796875 37.15625 21.921875 38.8125 \r\nz\r\nM 18.3125 54.390625 \r\nQ 18.3125 48.734375 21.84375 45.5625 \r\nQ 25.390625 42.390625 31.78125 42.390625 \r\nQ 38.140625 42.390625 41.71875 45.5625 \r\nQ 45.3125 48.734375 45.3125 54.390625 \r\nQ 45.3125 60.0625 41.71875 63.234375 \r\nQ 38.140625 66.40625 31.78125 66.40625 \r\nQ 25.390625 66.40625 21.84375 63.234375 \r\nQ 18.3125 60.0625 18.3125 54.390625 \r\nz\r\n\" id=\"DejaVuSans-56\"/>\r\n       </defs>\r\n       <use xlink:href=\"#DejaVuSans-56\"/>\r\n       <use x=\"63.623047\" xlink:href=\"#DejaVuSans-48\"/>\r\n      </g>\r\n     </g>\r\n    </g>\r\n    <g id=\"text_6\">\r\n     <!-- X -->\r\n     <g transform=\"translate(324.557813 415.996562)scale(0.1 -0.1)\">\r\n      <defs>\r\n       <path d=\"M 6.296875 72.90625 \r\nL 16.890625 72.90625 \r\nL 35.015625 45.796875 \r\nL 53.21875 72.90625 \r\nL 63.8125 72.90625 \r\nL 40.375 37.890625 \r\nL 65.375 0 \r\nL 54.78125 0 \r\nL 34.28125 31 \r\nL 13.625 0 \r\nL 2.984375 0 \r\nL 29 38.921875 \r\nz\r\n\" id=\"DejaVuSans-88\"/>\r\n      </defs>\r\n      <use xlink:href=\"#DejaVuSans-88\"/>\r\n     </g>\r\n    </g>\r\n   </g>\r\n   <g id=\"matplotlib.axis_2\">\r\n    <g id=\"ytick_1\">\r\n     <g id=\"line2d_6\">\r\n      <defs>\r\n       <path d=\"M 0 0 \r\nL -3.5 0 \r\n\" id=\"mfb98b6d116\" style=\"stroke:#000000;stroke-width:0.8;\"/>\r\n      </defs>\r\n      <g>\r\n       <use style=\"stroke:#000000;stroke-width:0.8;\" x=\"48.982812\" xlink:href=\"#mfb98b6d116\" y=\"366.46451\"/>\r\n      </g>\r\n     </g>\r\n     <g id=\"text_7\">\r\n      <!-- −20 -->\r\n      <g transform=\"translate(20.878125 370.263729)scale(0.1 -0.1)\">\r\n       <defs>\r\n        <path d=\"M 10.59375 35.5 \r\nL 73.1875 35.5 \r\nL 73.1875 27.203125 \r\nL 10.59375 27.203125 \r\nz\r\n\" id=\"DejaVuSans-8722\"/>\r\n       </defs>\r\n       <use xlink:href=\"#DejaVuSans-8722\"/>\r\n       <use x=\"83.789062\" xlink:href=\"#DejaVuSans-50\"/>\r\n       <use x=\"147.412109\" xlink:href=\"#DejaVuSans-48\"/>\r\n      </g>\r\n     </g>\r\n    </g>\r\n    <g id=\"ytick_2\">\r\n     <g id=\"line2d_7\">\r\n      <g>\r\n       <use style=\"stroke:#000000;stroke-width:0.8;\" x=\"48.982812\" xlink:href=\"#mfb98b6d116\" y=\"311.388757\"/>\r\n      </g>\r\n     </g>\r\n     <g id=\"text_8\">\r\n      <!-- 0 -->\r\n      <g transform=\"translate(35.620312 315.187975)scale(0.1 -0.1)\">\r\n       <use xlink:href=\"#DejaVuSans-48\"/>\r\n      </g>\r\n     </g>\r\n    </g>\r\n    <g id=\"ytick_3\">\r\n     <g id=\"line2d_8\">\r\n      <g>\r\n       <use style=\"stroke:#000000;stroke-width:0.8;\" x=\"48.982812\" xlink:href=\"#mfb98b6d116\" y=\"256.313004\"/>\r\n      </g>\r\n     </g>\r\n     <g id=\"text_9\">\r\n      <!-- 20 -->\r\n      <g transform=\"translate(29.257812 260.112222)scale(0.1 -0.1)\">\r\n       <use xlink:href=\"#DejaVuSans-50\"/>\r\n       <use x=\"63.623047\" xlink:href=\"#DejaVuSans-48\"/>\r\n      </g>\r\n     </g>\r\n    </g>\r\n    <g id=\"ytick_4\">\r\n     <g id=\"line2d_9\">\r\n      <g>\r\n       <use style=\"stroke:#000000;stroke-width:0.8;\" x=\"48.982812\" xlink:href=\"#mfb98b6d116\" y=\"201.237251\"/>\r\n      </g>\r\n     </g>\r\n     <g id=\"text_10\">\r\n      <!-- 40 -->\r\n      <g transform=\"translate(29.257812 205.036469)scale(0.1 -0.1)\">\r\n       <use xlink:href=\"#DejaVuSans-52\"/>\r\n       <use x=\"63.623047\" xlink:href=\"#DejaVuSans-48\"/>\r\n      </g>\r\n     </g>\r\n    </g>\r\n    <g id=\"ytick_5\">\r\n     <g id=\"line2d_10\">\r\n      <g>\r\n       <use style=\"stroke:#000000;stroke-width:0.8;\" x=\"48.982812\" xlink:href=\"#mfb98b6d116\" y=\"146.161497\"/>\r\n      </g>\r\n     </g>\r\n     <g id=\"text_11\">\r\n      <!-- 60 -->\r\n      <g transform=\"translate(29.257812 149.960716)scale(0.1 -0.1)\">\r\n       <use xlink:href=\"#DejaVuSans-54\"/>\r\n       <use x=\"63.623047\" xlink:href=\"#DejaVuSans-48\"/>\r\n      </g>\r\n     </g>\r\n    </g>\r\n    <g id=\"ytick_6\">\r\n     <g id=\"line2d_11\">\r\n      <g>\r\n       <use style=\"stroke:#000000;stroke-width:0.8;\" x=\"48.982812\" xlink:href=\"#mfb98b6d116\" y=\"91.085744\"/>\r\n      </g>\r\n     </g>\r\n     <g id=\"text_12\">\r\n      <!-- 80 -->\r\n      <g transform=\"translate(29.257812 94.884963)scale(0.1 -0.1)\">\r\n       <use xlink:href=\"#DejaVuSans-56\"/>\r\n       <use x=\"63.623047\" xlink:href=\"#DejaVuSans-48\"/>\r\n      </g>\r\n     </g>\r\n    </g>\r\n    <g id=\"ytick_7\">\r\n     <g id=\"line2d_12\">\r\n      <g>\r\n       <use style=\"stroke:#000000;stroke-width:0.8;\" x=\"48.982812\" xlink:href=\"#mfb98b6d116\" y=\"36.009991\"/>\r\n      </g>\r\n     </g>\r\n     <g id=\"text_13\">\r\n      <!-- 100 -->\r\n      <g transform=\"translate(22.895312 39.80921)scale(0.1 -0.1)\">\r\n       <defs>\r\n        <path d=\"M 12.40625 8.296875 \r\nL 28.515625 8.296875 \r\nL 28.515625 63.921875 \r\nL 10.984375 60.40625 \r\nL 10.984375 69.390625 \r\nL 28.421875 72.90625 \r\nL 38.28125 72.90625 \r\nL 38.28125 8.296875 \r\nL 54.390625 8.296875 \r\nL 54.390625 0 \r\nL 12.40625 0 \r\nz\r\n\" id=\"DejaVuSans-49\"/>\r\n       </defs>\r\n       <use xlink:href=\"#DejaVuSans-49\"/>\r\n       <use x=\"63.623047\" xlink:href=\"#DejaVuSans-48\"/>\r\n       <use x=\"127.246094\" xlink:href=\"#DejaVuSans-48\"/>\r\n      </g>\r\n     </g>\r\n    </g>\r\n    <g id=\"text_14\">\r\n     <!-- Y -->\r\n     <g transform=\"translate(14.798437 200.513906)rotate(-90)scale(0.1 -0.1)\">\r\n      <defs>\r\n       <path d=\"M -0.203125 72.90625 \r\nL 10.40625 72.90625 \r\nL 30.609375 42.921875 \r\nL 50.6875 72.90625 \r\nL 61.28125 72.90625 \r\nL 35.5 34.71875 \r\nL 35.5 0 \r\nL 25.59375 0 \r\nL 25.59375 34.71875 \r\nz\r\n\" id=\"DejaVuSans-89\"/>\r\n      </defs>\r\n      <use xlink:href=\"#DejaVuSans-89\"/>\r\n     </g>\r\n    </g>\r\n   </g>\r\n   <g id=\"line2d_13\">\r\n    <defs>\r\n     <path d=\"M 0 3 \r\nC 0.795609 3 1.55874 2.683901 2.12132 2.12132 \r\nC 2.683901 1.55874 3 0.795609 3 0 \r\nC 3 -0.795609 2.683901 -1.55874 2.12132 -2.12132 \r\nC 1.55874 -2.683901 0.795609 -3 0 -3 \r\nC -0.795609 -3 -1.55874 -2.683901 -2.12132 -2.12132 \r\nC -2.683901 -1.55874 -3 -0.795609 -3 0 \r\nC -3 0.795609 -2.683901 1.55874 -2.12132 2.12132 \r\nC -1.55874 2.683901 -0.795609 3 0 3 \r\nz\r\n\" id=\"m1374b90ae5\" style=\"stroke:#1f77b4;\"/>\r\n    </defs>\r\n    <g clip-path=\"url(#p23345505e6)\">\r\n     <use style=\"fill:#1f77b4;stroke:#1f77b4;\" x=\"74.346449\" xlink:href=\"#m1374b90ae5\" y=\"332.966508\"/>\r\n     <use style=\"fill:#1f77b4;stroke:#1f77b4;\" x=\"80.046142\" xlink:href=\"#m1374b90ae5\" y=\"370.423636\"/>\r\n     <use style=\"fill:#1f77b4;stroke:#1f77b4;\" x=\"85.745836\" xlink:href=\"#m1374b90ae5\" y=\"290.727904\"/>\r\n     <use style=\"fill:#1f77b4;stroke:#1f77b4;\" x=\"91.44553\" xlink:href=\"#m1374b90ae5\" y=\"263.820569\"/>\r\n     <use style=\"fill:#1f77b4;stroke:#1f77b4;\" x=\"97.145223\" xlink:href=\"#m1374b90ae5\" y=\"331.85822\"/>\r\n     <use style=\"fill:#1f77b4;stroke:#1f77b4;\" x=\"102.844916\" xlink:href=\"#m1374b90ae5\" y=\"283.61471\"/>\r\n     <use style=\"fill:#1f77b4;stroke:#1f77b4;\" x=\"108.544611\" xlink:href=\"#m1374b90ae5\" y=\"305.129692\"/>\r\n     <use style=\"fill:#1f77b4;stroke:#1f77b4;\" x=\"114.244304\" xlink:href=\"#m1374b90ae5\" y=\"328.434012\"/>\r\n     <use style=\"fill:#1f77b4;stroke:#1f77b4;\" x=\"119.943997\" xlink:href=\"#m1374b90ae5\" y=\"267.526145\"/>\r\n     <use style=\"fill:#1f77b4;stroke:#1f77b4;\" x=\"125.643692\" xlink:href=\"#m1374b90ae5\" y=\"266.050017\"/>\r\n     <use style=\"fill:#1f77b4;stroke:#1f77b4;\" x=\"131.343382\" xlink:href=\"#m1374b90ae5\" y=\"263.489093\"/>\r\n     <use style=\"fill:#1f77b4;stroke:#1f77b4;\" x=\"137.043078\" xlink:href=\"#m1374b90ae5\" y=\"269.241374\"/>\r\n     <use style=\"fill:#1f77b4;stroke:#1f77b4;\" x=\"142.742773\" xlink:href=\"#m1374b90ae5\" y=\"300.29794\"/>\r\n     <use style=\"fill:#1f77b4;stroke:#1f77b4;\" x=\"148.442463\" xlink:href=\"#m1374b90ae5\" y=\"265.762772\"/>\r\n     <use style=\"fill:#1f77b4;stroke:#1f77b4;\" x=\"154.142159\" xlink:href=\"#m1374b90ae5\" y=\"207.971595\"/>\r\n     <use style=\"fill:#1f77b4;stroke:#1f77b4;\" x=\"159.841849\" xlink:href=\"#m1374b90ae5\" y=\"302.604146\"/>\r\n     <use style=\"fill:#1f77b4;stroke:#1f77b4;\" x=\"165.541545\" xlink:href=\"#m1374b90ae5\" y=\"262.637889\"/>\r\n     <use style=\"fill:#1f77b4;stroke:#1f77b4;\" x=\"171.24124\" xlink:href=\"#m1374b90ae5\" y=\"265.459811\"/>\r\n     <use style=\"fill:#1f77b4;stroke:#1f77b4;\" x=\"176.940936\" xlink:href=\"#m1374b90ae5\" y=\"264.230878\"/>\r\n     <use style=\"fill:#1f77b4;stroke:#1f77b4;\" x=\"182.64062\" xlink:href=\"#m1374b90ae5\" y=\"189.056701\"/>\r\n     <use style=\"fill:#1f77b4;stroke:#1f77b4;\" x=\"188.340316\" xlink:href=\"#m1374b90ae5\" y=\"246.816647\"/>\r\n     <use style=\"fill:#1f77b4;stroke:#1f77b4;\" x=\"194.040011\" xlink:href=\"#m1374b90ae5\" y=\"230.582017\"/>\r\n     <use style=\"fill:#1f77b4;stroke:#1f77b4;\" x=\"199.739707\" xlink:href=\"#m1374b90ae5\" y=\"254.162868\"/>\r\n     <use style=\"fill:#1f77b4;stroke:#1f77b4;\" x=\"205.439402\" xlink:href=\"#m1374b90ae5\" y=\"216.587507\"/>\r\n     <use style=\"fill:#1f77b4;stroke:#1f77b4;\" x=\"211.139098\" xlink:href=\"#m1374b90ae5\" y=\"252.675662\"/>\r\n     <use style=\"fill:#1f77b4;stroke:#1f77b4;\" x=\"216.838783\" xlink:href=\"#m1374b90ae5\" y=\"232.319453\"/>\r\n     <use style=\"fill:#1f77b4;stroke:#1f77b4;\" x=\"222.538478\" xlink:href=\"#m1374b90ae5\" y=\"241.807737\"/>\r\n     <use style=\"fill:#1f77b4;stroke:#1f77b4;\" x=\"228.238174\" xlink:href=\"#m1374b90ae5\" y=\"242.969906\"/>\r\n     <use style=\"fill:#1f77b4;stroke:#1f77b4;\" x=\"233.937869\" xlink:href=\"#m1374b90ae5\" y=\"257.97282\"/>\r\n     <use style=\"fill:#1f77b4;stroke:#1f77b4;\" x=\"239.637565\" xlink:href=\"#m1374b90ae5\" y=\"261.027808\"/>\r\n     <use style=\"fill:#1f77b4;stroke:#1f77b4;\" x=\"245.337249\" xlink:href=\"#m1374b90ae5\" y=\"235.797205\"/>\r\n     <use style=\"fill:#1f77b4;stroke:#1f77b4;\" x=\"251.036945\" xlink:href=\"#m1374b90ae5\" y=\"216.189783\"/>\r\n     <use style=\"fill:#1f77b4;stroke:#1f77b4;\" x=\"256.73664\" xlink:href=\"#m1374b90ae5\" y=\"206.860978\"/>\r\n     <use style=\"fill:#1f77b4;stroke:#1f77b4;\" x=\"262.436336\" xlink:href=\"#m1374b90ae5\" y=\"238.761767\"/>\r\n     <use style=\"fill:#1f77b4;stroke:#1f77b4;\" x=\"268.136031\" xlink:href=\"#m1374b90ae5\" y=\"248.702034\"/>\r\n     <use style=\"fill:#1f77b4;stroke:#1f77b4;\" x=\"273.835727\" xlink:href=\"#m1374b90ae5\" y=\"209.92447\"/>\r\n     <use style=\"fill:#1f77b4;stroke:#1f77b4;\" x=\"279.535422\" xlink:href=\"#m1374b90ae5\" y=\"242.112751\"/>\r\n     <use style=\"fill:#1f77b4;stroke:#1f77b4;\" x=\"285.235118\" xlink:href=\"#m1374b90ae5\" y=\"233.988167\"/>\r\n     <use style=\"fill:#1f77b4;stroke:#1f77b4;\" x=\"290.934792\" xlink:href=\"#m1374b90ae5\" y=\"187.761902\"/>\r\n     <use style=\"fill:#1f77b4;stroke:#1f77b4;\" x=\"296.634487\" xlink:href=\"#m1374b90ae5\" y=\"167.164507\"/>\r\n     <use style=\"fill:#1f77b4;stroke:#1f77b4;\" x=\"302.334183\" xlink:href=\"#m1374b90ae5\" y=\"189.172674\"/>\r\n     <use style=\"fill:#1f77b4;stroke:#1f77b4;\" x=\"308.033878\" xlink:href=\"#m1374b90ae5\" y=\"155.417125\"/>\r\n     <use style=\"fill:#1f77b4;stroke:#1f77b4;\" x=\"313.733574\" xlink:href=\"#m1374b90ae5\" y=\"175.199406\"/>\r\n     <use style=\"fill:#1f77b4;stroke:#1f77b4;\" x=\"319.433269\" xlink:href=\"#m1374b90ae5\" y=\"182.043221\"/>\r\n     <use style=\"fill:#1f77b4;stroke:#1f77b4;\" x=\"325.132965\" xlink:href=\"#m1374b90ae5\" y=\"228.980403\"/>\r\n     <use style=\"fill:#1f77b4;stroke:#1f77b4;\" x=\"330.83266\" xlink:href=\"#m1374b90ae5\" y=\"190.845616\"/>\r\n     <use style=\"fill:#1f77b4;stroke:#1f77b4;\" x=\"336.532356\" xlink:href=\"#m1374b90ae5\" y=\"195.841626\"/>\r\n     <use style=\"fill:#1f77b4;stroke:#1f77b4;\" x=\"342.232051\" xlink:href=\"#m1374b90ae5\" y=\"156.939112\"/>\r\n     <use style=\"fill:#1f77b4;stroke:#1f77b4;\" x=\"347.931747\" xlink:href=\"#m1374b90ae5\" y=\"155.923071\"/>\r\n     <use style=\"fill:#1f77b4;stroke:#1f77b4;\" x=\"353.631421\" xlink:href=\"#m1374b90ae5\" y=\"161.331155\"/>\r\n     <use style=\"fill:#1f77b4;stroke:#1f77b4;\" x=\"359.331116\" xlink:href=\"#m1374b90ae5\" y=\"123.04369\"/>\r\n     <use style=\"fill:#1f77b4;stroke:#1f77b4;\" x=\"365.030812\" xlink:href=\"#m1374b90ae5\" y=\"208.90658\"/>\r\n     <use style=\"fill:#1f77b4;stroke:#1f77b4;\" x=\"370.730507\" xlink:href=\"#m1374b90ae5\" y=\"186.883212\"/>\r\n     <use style=\"fill:#1f77b4;stroke:#1f77b4;\" x=\"376.430203\" xlink:href=\"#m1374b90ae5\" y=\"142.809783\"/>\r\n     <use style=\"fill:#1f77b4;stroke:#1f77b4;\" x=\"382.129898\" xlink:href=\"#m1374b90ae5\" y=\"144.250053\"/>\r\n     <use style=\"fill:#1f77b4;stroke:#1f77b4;\" x=\"387.829594\" xlink:href=\"#m1374b90ae5\" y=\"193.764036\"/>\r\n     <use style=\"fill:#1f77b4;stroke:#1f77b4;\" x=\"393.529289\" xlink:href=\"#m1374b90ae5\" y=\"105.460477\"/>\r\n     <use style=\"fill:#1f77b4;stroke:#1f77b4;\" x=\"399.228985\" xlink:href=\"#m1374b90ae5\" y=\"172.216654\"/>\r\n     <use style=\"fill:#1f77b4;stroke:#1f77b4;\" x=\"404.92868\" xlink:href=\"#m1374b90ae5\" y=\"184.552287\"/>\r\n     <use style=\"fill:#1f77b4;stroke:#1f77b4;\" x=\"410.628354\" xlink:href=\"#m1374b90ae5\" y=\"113.733017\"/>\r\n     <use style=\"fill:#1f77b4;stroke:#1f77b4;\" x=\"416.32805\" xlink:href=\"#m1374b90ae5\" y=\"125.186389\"/>\r\n     <use style=\"fill:#1f77b4;stroke:#1f77b4;\" x=\"422.027745\" xlink:href=\"#m1374b90ae5\" y=\"155.165859\"/>\r\n     <use style=\"fill:#1f77b4;stroke:#1f77b4;\" x=\"427.727441\" xlink:href=\"#m1374b90ae5\" y=\"91.108183\"/>\r\n     <use style=\"fill:#1f77b4;stroke:#1f77b4;\" x=\"433.427136\" xlink:href=\"#m1374b90ae5\" y=\"150.592009\"/>\r\n     <use style=\"fill:#1f77b4;stroke:#1f77b4;\" x=\"439.126832\" xlink:href=\"#m1374b90ae5\" y=\"121.12588\"/>\r\n     <use style=\"fill:#1f77b4;stroke:#1f77b4;\" x=\"444.826527\" xlink:href=\"#m1374b90ae5\" y=\"130.403295\"/>\r\n     <use style=\"fill:#1f77b4;stroke:#1f77b4;\" x=\"450.526223\" xlink:href=\"#m1374b90ae5\" y=\"120.498172\"/>\r\n     <use style=\"fill:#1f77b4;stroke:#1f77b4;\" x=\"456.225918\" xlink:href=\"#m1374b90ae5\" y=\"138.445547\"/>\r\n     <use style=\"fill:#1f77b4;stroke:#1f77b4;\" x=\"461.925614\" xlink:href=\"#m1374b90ae5\" y=\"122.436971\"/>\r\n     <use style=\"fill:#1f77b4;stroke:#1f77b4;\" x=\"467.625309\" xlink:href=\"#m1374b90ae5\" y=\"130.781701\"/>\r\n     <use style=\"fill:#1f77b4;stroke:#1f77b4;\" x=\"473.325005\" xlink:href=\"#m1374b90ae5\" y=\"156.607799\"/>\r\n     <use style=\"fill:#1f77b4;stroke:#1f77b4;\" x=\"479.0247\" xlink:href=\"#m1374b90ae5\" y=\"109.504788\"/>\r\n     <use style=\"fill:#1f77b4;stroke:#1f77b4;\" x=\"484.724396\" xlink:href=\"#m1374b90ae5\" y=\"101.340175\"/>\r\n     <use style=\"fill:#1f77b4;stroke:#1f77b4;\" x=\"490.424091\" xlink:href=\"#m1374b90ae5\" y=\"163.229289\"/>\r\n     <use style=\"fill:#1f77b4;stroke:#1f77b4;\" x=\"496.123787\" xlink:href=\"#m1374b90ae5\" y=\"88.477386\"/>\r\n     <use style=\"fill:#1f77b4;stroke:#1f77b4;\" x=\"501.823439\" xlink:href=\"#m1374b90ae5\" y=\"101.82073\"/>\r\n     <use style=\"fill:#1f77b4;stroke:#1f77b4;\" x=\"507.523135\" xlink:href=\"#m1374b90ae5\" y=\"95.689082\"/>\r\n     <use style=\"fill:#1f77b4;stroke:#1f77b4;\" x=\"513.22283\" xlink:href=\"#m1374b90ae5\" y=\"101.925127\"/>\r\n     <use style=\"fill:#1f77b4;stroke:#1f77b4;\" x=\"518.922526\" xlink:href=\"#m1374b90ae5\" y=\"75.910541\"/>\r\n     <use style=\"fill:#1f77b4;stroke:#1f77b4;\" x=\"524.622221\" xlink:href=\"#m1374b90ae5\" y=\"130.65476\"/>\r\n     <use style=\"fill:#1f77b4;stroke:#1f77b4;\" x=\"530.321917\" xlink:href=\"#m1374b90ae5\" y=\"101.736796\"/>\r\n     <use style=\"fill:#1f77b4;stroke:#1f77b4;\" x=\"536.021612\" xlink:href=\"#m1374b90ae5\" y=\"42.173406\"/>\r\n     <use style=\"fill:#1f77b4;stroke:#1f77b4;\" x=\"541.721308\" xlink:href=\"#m1374b90ae5\" y=\"83.500117\"/>\r\n     <use style=\"fill:#1f77b4;stroke:#1f77b4;\" x=\"547.421003\" xlink:href=\"#m1374b90ae5\" y=\"68.963231\"/>\r\n     <use style=\"fill:#1f77b4;stroke:#1f77b4;\" x=\"553.120699\" xlink:href=\"#m1374b90ae5\" y=\"68.738679\"/>\r\n     <use style=\"fill:#1f77b4;stroke:#1f77b4;\" x=\"558.820394\" xlink:href=\"#m1374b90ae5\" y=\"24.496364\"/>\r\n     <use style=\"fill:#1f77b4;stroke:#1f77b4;\" x=\"564.52009\" xlink:href=\"#m1374b90ae5\" y=\"111.52044\"/>\r\n     <use style=\"fill:#1f77b4;stroke:#1f77b4;\" x=\"570.219785\" xlink:href=\"#m1374b90ae5\" y=\"121.550361\"/>\r\n     <use style=\"fill:#1f77b4;stroke:#1f77b4;\" x=\"575.919481\" xlink:href=\"#m1374b90ae5\" y=\"66.434584\"/>\r\n     <use style=\"fill:#1f77b4;stroke:#1f77b4;\" x=\"581.619176\" xlink:href=\"#m1374b90ae5\" y=\"59.065\"/>\r\n    </g>\r\n   </g>\r\n   <g id=\"line2d_14\">\r\n    <path clip-path=\"url(#p23345505e6)\" d=\"M 74.346449 309.579655 \r\nL 80.046142 306.819128 \r\nL 85.745836 304.058602 \r\nL 91.44553 301.298075 \r\nL 97.145223 298.53755 \r\nL 102.844916 295.777023 \r\nL 108.544611 293.016495 \r\nL 114.244304 290.25597 \r\nL 119.943997 287.495444 \r\nL 125.643692 284.734917 \r\nL 131.343382 281.974391 \r\nL 137.043078 279.213864 \r\nL 142.742773 276.453338 \r\nL 148.442463 273.692811 \r\nL 154.142159 270.932285 \r\nL 159.841849 268.171758 \r\nL 165.541545 265.411237 \r\nL 171.24124 262.650705 \r\nL 176.940936 259.890178 \r\nL 182.64062 257.129657 \r\nL 188.340316 254.369131 \r\nL 194.040011 251.608604 \r\nL 199.739707 248.848078 \r\nL 205.439402 246.087546 \r\nL 211.139098 243.327019 \r\nL 216.838783 240.566498 \r\nL 222.538478 237.805971 \r\nL 228.238174 235.045445 \r\nL 233.937869 232.284918 \r\nL 239.637565 229.524392 \r\nL 245.337249 226.763865 \r\nL 251.036945 224.003339 \r\nL 256.73664 221.242812 \r\nL 262.436336 218.482281 \r\nL 268.136031 215.721749 \r\nL 273.835727 212.961227 \r\nL 279.535422 210.200696 \r\nL 285.235118 207.440174 \r\nL 290.934792 204.679653 \r\nL 296.634487 201.919132 \r\nL 302.334183 199.1586 \r\nL 308.033878 196.398068 \r\nL 313.733574 193.637547 \r\nL 319.433269 190.877015 \r\nL 325.132965 188.116494 \r\nL 330.83266 185.355962 \r\nL 336.532356 182.59543 \r\nL 342.232051 179.834909 \r\nL 347.931747 177.074377 \r\nL 353.631421 174.313867 \r\nL 359.331116 171.553335 \r\nL 365.030812 168.792814 \r\nL 370.730507 166.032282 \r\nL 376.430203 163.27175 \r\nL 382.129898 160.511229 \r\nL 387.829594 157.750697 \r\nL 393.529289 154.990176 \r\nL 399.228985 152.229644 \r\nL 404.92868 149.469123 \r\nL 410.628354 146.708601 \r\nL 416.32805 143.94807 \r\nL 422.027745 141.187548 \r\nL 427.727441 138.427017 \r\nL 433.427136 135.666495 \r\nL 439.126832 132.905974 \r\nL 444.826527 130.145442 \r\nL 450.526223 127.38491 \r\nL 456.225918 124.624379 \r\nL 461.925614 121.863847 \r\nL 467.625309 119.103336 \r\nL 473.325005 116.342804 \r\nL 479.0247 113.582273 \r\nL 484.724396 110.821741 \r\nL 490.424091 108.061209 \r\nL 496.123787 105.300698 \r\nL 501.823439 102.540187 \r\nL 507.523135 99.779656 \r\nL 513.22283 97.019124 \r\nL 518.922526 94.258613 \r\nL 524.622221 91.498081 \r\nL 530.321917 88.73755 \r\nL 536.021612 85.977018 \r\nL 541.721308 83.216486 \r\nL 547.421003 80.455975 \r\nL 553.120699 77.695443 \r\nL 558.820394 74.934912 \r\nL 564.52009 72.17438 \r\nL 570.219785 69.413848 \r\nL 575.919481 66.653337 \r\nL 581.619176 63.892806 \r\n\" style=\"fill:none;stroke:#ff7f0e;stroke-linecap:square;stroke-width:1.5;\"/>\r\n   </g>\r\n   <g id=\"patch_3\">\r\n    <path d=\"M 48.982812 387.72 \r\nL 48.982812 7.2 \r\n\" style=\"fill:none;stroke:#000000;stroke-linecap:square;stroke-linejoin:miter;stroke-width:0.8;\"/>\r\n   </g>\r\n   <g id=\"patch_4\">\r\n    <path d=\"M 606.982813 387.72 \r\nL 606.982813 7.2 \r\n\" style=\"fill:none;stroke:#000000;stroke-linecap:square;stroke-linejoin:miter;stroke-width:0.8;\"/>\r\n   </g>\r\n   <g id=\"patch_5\">\r\n    <path d=\"M 48.982812 387.72 \r\nL 606.982813 387.72 \r\n\" style=\"fill:none;stroke:#000000;stroke-linecap:square;stroke-linejoin:miter;stroke-width:0.8;\"/>\r\n   </g>\r\n   <g id=\"patch_6\">\r\n    <path d=\"M 48.982812 7.2 \r\nL 606.982813 7.2 \r\n\" style=\"fill:none;stroke:#000000;stroke-linecap:square;stroke-linejoin:miter;stroke-width:0.8;\"/>\r\n   </g>\r\n   <g id=\"legend_1\">\r\n    <g id=\"patch_7\">\r\n     <path d=\"M 55.982812 44.55625 \r\nL 223.15625 44.55625 \r\nQ 225.15625 44.55625 225.15625 42.55625 \r\nL 225.15625 14.2 \r\nQ 225.15625 12.2 223.15625 12.2 \r\nL 55.982812 12.2 \r\nQ 53.982812 12.2 53.982812 14.2 \r\nL 53.982812 42.55625 \r\nQ 53.982812 44.55625 55.982812 44.55625 \r\nz\r\n\" style=\"fill:#ffffff;opacity:0.8;stroke:#cccccc;stroke-linejoin:miter;\"/>\r\n    </g>\r\n    <g id=\"line2d_15\"/>\r\n    <g id=\"line2d_16\">\r\n     <g>\r\n      <use style=\"fill:#1f77b4;stroke:#1f77b4;\" x=\"67.982812\" xlink:href=\"#m1374b90ae5\" y=\"20.298437\"/>\r\n     </g>\r\n    </g>\r\n    <g id=\"text_15\">\r\n     <!-- Data -->\r\n     <g transform=\"translate(85.982812 23.798437)scale(0.1 -0.1)\">\r\n      <defs>\r\n       <path d=\"M 19.671875 64.796875 \r\nL 19.671875 8.109375 \r\nL 31.59375 8.109375 \r\nQ 46.6875 8.109375 53.6875 14.9375 \r\nQ 60.6875 21.78125 60.6875 36.53125 \r\nQ 60.6875 51.171875 53.6875 57.984375 \r\nQ 46.6875 64.796875 31.59375 64.796875 \r\nz\r\nM 9.8125 72.90625 \r\nL 30.078125 72.90625 \r\nQ 51.265625 72.90625 61.171875 64.09375 \r\nQ 71.09375 55.28125 71.09375 36.53125 \r\nQ 71.09375 17.671875 61.125 8.828125 \r\nQ 51.171875 0 30.078125 0 \r\nL 9.8125 0 \r\nz\r\n\" id=\"DejaVuSans-68\"/>\r\n       <path d=\"M 34.28125 27.484375 \r\nQ 23.390625 27.484375 19.1875 25 \r\nQ 14.984375 22.515625 14.984375 16.5 \r\nQ 14.984375 11.71875 18.140625 8.90625 \r\nQ 21.296875 6.109375 26.703125 6.109375 \r\nQ 34.1875 6.109375 38.703125 11.40625 \r\nQ 43.21875 16.703125 43.21875 25.484375 \r\nL 43.21875 27.484375 \r\nz\r\nM 52.203125 31.203125 \r\nL 52.203125 0 \r\nL 43.21875 0 \r\nL 43.21875 8.296875 \r\nQ 40.140625 3.328125 35.546875 0.953125 \r\nQ 30.953125 -1.421875 24.3125 -1.421875 \r\nQ 15.921875 -1.421875 10.953125 3.296875 \r\nQ 6 8.015625 6 15.921875 \r\nQ 6 25.140625 12.171875 29.828125 \r\nQ 18.359375 34.515625 30.609375 34.515625 \r\nL 43.21875 34.515625 \r\nL 43.21875 35.40625 \r\nQ 43.21875 41.609375 39.140625 45 \r\nQ 35.0625 48.390625 27.6875 48.390625 \r\nQ 23 48.390625 18.546875 47.265625 \r\nQ 14.109375 46.140625 10.015625 43.890625 \r\nL 10.015625 52.203125 \r\nQ 14.9375 54.109375 19.578125 55.046875 \r\nQ 24.21875 56 28.609375 56 \r\nQ 40.484375 56 46.34375 49.84375 \r\nQ 52.203125 43.703125 52.203125 31.203125 \r\nz\r\n\" id=\"DejaVuSans-97\"/>\r\n       <path d=\"M 18.3125 70.21875 \r\nL 18.3125 54.6875 \r\nL 36.8125 54.6875 \r\nL 36.8125 47.703125 \r\nL 18.3125 47.703125 \r\nL 18.3125 18.015625 \r\nQ 18.3125 11.328125 20.140625 9.421875 \r\nQ 21.96875 7.515625 27.59375 7.515625 \r\nL 36.8125 7.515625 \r\nL 36.8125 0 \r\nL 27.59375 0 \r\nQ 17.1875 0 13.234375 3.875 \r\nQ 9.28125 7.765625 9.28125 18.015625 \r\nL 9.28125 47.703125 \r\nL 2.6875 47.703125 \r\nL 2.6875 54.6875 \r\nL 9.28125 54.6875 \r\nL 9.28125 70.21875 \r\nz\r\n\" id=\"DejaVuSans-116\"/>\r\n      </defs>\r\n      <use xlink:href=\"#DejaVuSans-68\"/>\r\n      <use x=\"77.001953\" xlink:href=\"#DejaVuSans-97\"/>\r\n      <use x=\"138.28125\" xlink:href=\"#DejaVuSans-116\"/>\r\n      <use x=\"177.490234\" xlink:href=\"#DejaVuSans-97\"/>\r\n     </g>\r\n    </g>\r\n    <g id=\"line2d_17\">\r\n     <path d=\"M 57.982812 34.976562 \r\nL 77.982812 34.976562 \r\n\" style=\"fill:none;stroke:#ff7f0e;stroke-linecap:square;stroke-width:1.5;\"/>\r\n    </g>\r\n    <g id=\"line2d_18\"/>\r\n    <g id=\"text_16\">\r\n     <!-- 0.99242264x + 0.6569505 -->\r\n     <g transform=\"translate(85.982812 38.476562)scale(0.1 -0.1)\">\r\n      <defs>\r\n       <path d=\"M 10.6875 12.40625 \r\nL 21 12.40625 \r\nL 21 0 \r\nL 10.6875 0 \r\nz\r\n\" id=\"DejaVuSans-46\"/>\r\n       <path d=\"M 10.984375 1.515625 \r\nL 10.984375 10.5 \r\nQ 14.703125 8.734375 18.5 7.8125 \r\nQ 22.3125 6.890625 25.984375 6.890625 \r\nQ 35.75 6.890625 40.890625 13.453125 \r\nQ 46.046875 20.015625 46.78125 33.40625 \r\nQ 43.953125 29.203125 39.59375 26.953125 \r\nQ 35.25 24.703125 29.984375 24.703125 \r\nQ 19.046875 24.703125 12.671875 31.3125 \r\nQ 6.296875 37.9375 6.296875 49.421875 \r\nQ 6.296875 60.640625 12.9375 67.421875 \r\nQ 19.578125 74.21875 30.609375 74.21875 \r\nQ 43.265625 74.21875 49.921875 64.515625 \r\nQ 56.59375 54.828125 56.59375 36.375 \r\nQ 56.59375 19.140625 48.40625 8.859375 \r\nQ 40.234375 -1.421875 26.421875 -1.421875 \r\nQ 22.703125 -1.421875 18.890625 -0.6875 \r\nQ 15.09375 0.046875 10.984375 1.515625 \r\nz\r\nM 30.609375 32.421875 \r\nQ 37.25 32.421875 41.125 36.953125 \r\nQ 45.015625 41.5 45.015625 49.421875 \r\nQ 45.015625 57.28125 41.125 61.84375 \r\nQ 37.25 66.40625 30.609375 66.40625 \r\nQ 23.96875 66.40625 20.09375 61.84375 \r\nQ 16.21875 57.28125 16.21875 49.421875 \r\nQ 16.21875 41.5 20.09375 36.953125 \r\nQ 23.96875 32.421875 30.609375 32.421875 \r\nz\r\n\" id=\"DejaVuSans-57\"/>\r\n       <path d=\"M 54.890625 54.6875 \r\nL 35.109375 28.078125 \r\nL 55.90625 0 \r\nL 45.3125 0 \r\nL 29.390625 21.484375 \r\nL 13.484375 0 \r\nL 2.875 0 \r\nL 24.125 28.609375 \r\nL 4.6875 54.6875 \r\nL 15.28125 54.6875 \r\nL 29.78125 35.203125 \r\nL 44.28125 54.6875 \r\nz\r\n\" id=\"DejaVuSans-120\"/>\r\n       <path id=\"DejaVuSans-32\"/>\r\n       <path d=\"M 46 62.703125 \r\nL 46 35.5 \r\nL 73.1875 35.5 \r\nL 73.1875 27.203125 \r\nL 46 27.203125 \r\nL 46 0 \r\nL 37.796875 0 \r\nL 37.796875 27.203125 \r\nL 10.59375 27.203125 \r\nL 10.59375 35.5 \r\nL 37.796875 35.5 \r\nL 37.796875 62.703125 \r\nz\r\n\" id=\"DejaVuSans-43\"/>\r\n       <path d=\"M 10.796875 72.90625 \r\nL 49.515625 72.90625 \r\nL 49.515625 64.59375 \r\nL 19.828125 64.59375 \r\nL 19.828125 46.734375 \r\nQ 21.96875 47.46875 24.109375 47.828125 \r\nQ 26.265625 48.1875 28.421875 48.1875 \r\nQ 40.625 48.1875 47.75 41.5 \r\nQ 54.890625 34.8125 54.890625 23.390625 \r\nQ 54.890625 11.625 47.5625 5.09375 \r\nQ 40.234375 -1.421875 26.90625 -1.421875 \r\nQ 22.3125 -1.421875 17.546875 -0.640625 \r\nQ 12.796875 0.140625 7.71875 1.703125 \r\nL 7.71875 11.625 \r\nQ 12.109375 9.234375 16.796875 8.0625 \r\nQ 21.484375 6.890625 26.703125 6.890625 \r\nQ 35.15625 6.890625 40.078125 11.328125 \r\nQ 45.015625 15.765625 45.015625 23.390625 \r\nQ 45.015625 31 40.078125 35.4375 \r\nQ 35.15625 39.890625 26.703125 39.890625 \r\nQ 22.75 39.890625 18.8125 39.015625 \r\nQ 14.890625 38.140625 10.796875 36.28125 \r\nz\r\n\" id=\"DejaVuSans-53\"/>\r\n      </defs>\r\n      <use xlink:href=\"#DejaVuSans-48\"/>\r\n      <use x=\"63.623047\" xlink:href=\"#DejaVuSans-46\"/>\r\n      <use x=\"95.410156\" xlink:href=\"#DejaVuSans-57\"/>\r\n      <use x=\"159.033203\" xlink:href=\"#DejaVuSans-57\"/>\r\n      <use x=\"222.65625\" xlink:href=\"#DejaVuSans-50\"/>\r\n      <use x=\"286.279297\" xlink:href=\"#DejaVuSans-52\"/>\r\n      <use x=\"349.902344\" xlink:href=\"#DejaVuSans-50\"/>\r\n      <use x=\"413.525391\" xlink:href=\"#DejaVuSans-50\"/>\r\n      <use x=\"477.148438\" xlink:href=\"#DejaVuSans-54\"/>\r\n      <use x=\"540.771484\" xlink:href=\"#DejaVuSans-52\"/>\r\n      <use x=\"604.394531\" xlink:href=\"#DejaVuSans-120\"/>\r\n      <use x=\"663.574219\" xlink:href=\"#DejaVuSans-32\"/>\r\n      <use x=\"695.361328\" xlink:href=\"#DejaVuSans-43\"/>\r\n      <use x=\"779.150391\" xlink:href=\"#DejaVuSans-32\"/>\r\n      <use x=\"810.9375\" xlink:href=\"#DejaVuSans-48\"/>\r\n      <use x=\"874.560547\" xlink:href=\"#DejaVuSans-46\"/>\r\n      <use x=\"906.347656\" xlink:href=\"#DejaVuSans-54\"/>\r\n      <use x=\"969.970703\" xlink:href=\"#DejaVuSans-53\"/>\r\n      <use x=\"1033.59375\" xlink:href=\"#DejaVuSans-54\"/>\r\n      <use x=\"1097.216797\" xlink:href=\"#DejaVuSans-57\"/>\r\n      <use x=\"1160.839844\" xlink:href=\"#DejaVuSans-53\"/>\r\n      <use x=\"1224.462891\" xlink:href=\"#DejaVuSans-48\"/>\r\n      <use x=\"1288.085938\" xlink:href=\"#DejaVuSans-53\"/>\r\n     </g>\r\n    </g>\r\n   </g>\r\n  </g>\r\n </g>\r\n <defs>\r\n  <clipPath id=\"p23345505e6\">\r\n   <rect height=\"380.52\" width=\"558\" x=\"48.982812\" y=\"7.2\"/>\r\n  </clipPath>\r\n </defs>\r\n</svg>\r\n",
      "image/png": "[encoded data removed]"
     },
     "metadata": {
      "needs_background": "light"
     }
    }
   ],
   "source": [
    "    x_data=x_train.data.numpy()\n",
    "    plt.figure(figsize=(10,7))\n",
    "    xplot,=plt.plot(x_data,y_train.data.numpy(),'o')\n",
    "    yplot,=plt.plot(x_data,a.data.numpy()*x_data+b.data.numpy())\n",
    "    plt.xlabel('X')\n",
    "    plt.ylabel('Y')\n",
    "    str1 = str(a.data.numpy()[0])+'x + ' + str(b.data.numpy()[0])\n",
    "    plt.legend([xplot,yplot],['Data',str1])\n",
    "    plt.show()"
   ]
  },
  {
   "cell_type": "code",
   "execution_count": null,
   "metadata": {},
   "outputs": [],
   "source": []
  }
 ]
}